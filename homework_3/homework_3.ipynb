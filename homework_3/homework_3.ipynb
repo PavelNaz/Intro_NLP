{
 "cells": [
  {
   "cell_type": "code",
   "execution_count": 22,
   "id": "c34851f9",
   "metadata": {},
   "outputs": [
    {
     "name": "stdout",
     "output_type": "stream",
     "text": [
      "lenta-ru-news.csv (1).gz\n"
     ]
    }
   ],
   "source": [
    "import wget\n",
    "url = 'https://github.com/yutkin/Lenta.Ru-News-Dataset/releases/download/v1.0/lenta-ru-news.csv.gz'\n",
    "filename = wget.download(url)\n",
    "print(filename)"
   ]
  },
  {
   "cell_type": "code",
   "execution_count": 23,
   "id": "f69e3966",
   "metadata": {},
   "outputs": [
    {
     "data": {
      "text/plain": [
       "LentaRecord(\n",
       "    url='https://lenta.ru/news/2018/12/14/cancer/',\n",
       "    title='Названы регионы России с\\xa0самой высокой смертностью от\\xa0рака',\n",
       "    text='Вице-премьер по социальным вопросам Татьяна Голикова рассказала, в каких регионах России зафиксирована наиболее высокая смертность от рака, сообщает РИА Новости. По словам Голиковой, чаще всего онкологические заболевания становились причиной смерти в Псковской, Тверской, Тульской и Орловской областях, а также в Севастополе. Вице-премьер напомнила, что главные факторы смертности в России — рак и болезни системы кровообращения. В начале года стало известно, что смертность от онкологических заболеваний среди россиян снизилась впервые за три года. По данным Росстата, в 2017 году от рака умерли 289 тысяч человек. Это на 3,5 процента меньше, чем годом ранее.',\n",
       "    topic='Россия',\n",
       "    tags='Общество',\n",
       "    date=None\n",
       ")"
      ]
     },
     "execution_count": 23,
     "metadata": {},
     "output_type": "execute_result"
    }
   ],
   "source": [
    "from corus import load_lenta\n",
    "\n",
    "path = 'lenta-ru-news.csv.gz'\n",
    "records = load_lenta(path)\n",
    "next(records)"
   ]
  },
  {
   "cell_type": "code",
   "execution_count": 24,
   "id": "a7f4053b",
   "metadata": {},
   "outputs": [
    {
     "name": "stdout",
     "output_type": "stream",
     "text": [
      "Requirement already satisfied: pymorphy2 in c:\\users\\pavel_nazarenko\\anaconda3\\lib\\site-packages (0.9.1)\n",
      "Requirement already satisfied: stop-words in c:\\users\\pavel_nazarenko\\anaconda3\\lib\\site-packages (2018.7.23)\n",
      "Requirement already satisfied: annoy in c:\\users\\pavel_nazarenko\\anaconda3\\lib\\site-packages (1.17.1)\n",
      "Requirement already satisfied: docopt>=0.6 in c:\\users\\pavel_nazarenko\\anaconda3\\lib\\site-packages (from pymorphy2) (0.6.2)\n",
      "Requirement already satisfied: pymorphy2-dicts-ru<3.0,>=2.4 in c:\\users\\pavel_nazarenko\\anaconda3\\lib\\site-packages (from pymorphy2) (2.4.417127.4579844)\n",
      "Requirement already satisfied: dawg-python>=0.7.1 in c:\\users\\pavel_nazarenko\\anaconda3\\lib\\site-packages (from pymorphy2) (0.7.2)\n"
     ]
    }
   ],
   "source": [
    "!pip install pymorphy2 stop-words annoy"
   ]
  },
  {
   "cell_type": "code",
   "execution_count": 26,
   "id": "928ea860",
   "metadata": {},
   "outputs": [
    {
     "name": "stdout",
     "output_type": "stream",
     "text": [
      "Collecting tensorflow\n",
      "  Downloading tensorflow-2.10.0-cp39-cp39-win_amd64.whl (455.9 MB)\n",
      "Collecting termcolor>=1.1.0\n",
      "  Downloading termcolor-2.0.1-py3-none-any.whl (5.4 kB)\n",
      "Requirement already satisfied: wrapt>=1.11.0 in c:\\users\\pavel_nazarenko\\anaconda3\\lib\\site-packages (from tensorflow) (1.12.1)\n",
      "Collecting libclang>=13.0.0\n",
      "  Downloading libclang-14.0.6-py2.py3-none-win_amd64.whl (14.2 MB)\n",
      "Collecting tensorboard<2.11,>=2.10\n",
      "  Downloading tensorboard-2.10.1-py3-none-any.whl (5.9 MB)\n",
      "Collecting astunparse>=1.6.0\n",
      "  Using cached astunparse-1.6.3-py2.py3-none-any.whl (12 kB)\n",
      "Requirement already satisfied: numpy>=1.20 in c:\\users\\pavel_nazarenko\\anaconda3\\lib\\site-packages (from tensorflow) (1.21.5)\n",
      "Collecting flatbuffers>=2.0\n",
      "  Downloading flatbuffers-22.9.24-py2.py3-none-any.whl (26 kB)\n",
      "Collecting tensorflow-estimator<2.11,>=2.10.0\n",
      "  Downloading tensorflow_estimator-2.10.0-py2.py3-none-any.whl (438 kB)\n",
      "Collecting opt-einsum>=2.3.2\n",
      "  Using cached opt_einsum-3.3.0-py3-none-any.whl (65 kB)\n",
      "Collecting absl-py>=1.0.0\n",
      "  Downloading absl_py-1.3.0-py3-none-any.whl (124 kB)\n",
      "Collecting tensorflow-io-gcs-filesystem>=0.23.1\n",
      "  Downloading tensorflow_io_gcs_filesystem-0.27.0-cp39-cp39-win_amd64.whl (1.5 MB)\n",
      "Requirement already satisfied: protobuf<3.20,>=3.9.2 in c:\\users\\pavel_nazarenko\\anaconda3\\lib\\site-packages (from tensorflow) (3.19.1)\n",
      "Requirement already satisfied: typing-extensions>=3.6.6 in c:\\users\\pavel_nazarenko\\anaconda3\\lib\\site-packages (from tensorflow) (4.1.1)\n",
      "Collecting gast<=0.4.0,>=0.2.1\n",
      "  Using cached gast-0.4.0-py3-none-any.whl (9.8 kB)\n",
      "Requirement already satisfied: grpcio<2.0,>=1.24.3 in c:\\users\\pavel_nazarenko\\anaconda3\\lib\\site-packages (from tensorflow) (1.42.0)\n",
      "Collecting google-pasta>=0.1.1\n",
      "  Using cached google_pasta-0.2.0-py3-none-any.whl (57 kB)\n",
      "Requirement already satisfied: h5py>=2.9.0 in c:\\users\\pavel_nazarenko\\anaconda3\\lib\\site-packages (from tensorflow) (3.6.0)\n",
      "Requirement already satisfied: packaging in c:\\users\\pavel_nazarenko\\anaconda3\\lib\\site-packages (from tensorflow) (21.3)\n",
      "Collecting keras<2.11,>=2.10.0\n",
      "  Downloading keras-2.10.0-py2.py3-none-any.whl (1.7 MB)\n",
      "Collecting keras-preprocessing>=1.1.1\n",
      "  Using cached Keras_Preprocessing-1.1.2-py2.py3-none-any.whl (42 kB)\n",
      "Requirement already satisfied: setuptools in c:\\users\\pavel_nazarenko\\anaconda3\\lib\\site-packages (from tensorflow) (61.2.0)\n",
      "Requirement already satisfied: six>=1.12.0 in c:\\users\\pavel_nazarenko\\anaconda3\\lib\\site-packages (from tensorflow) (1.16.0)\n",
      "Requirement already satisfied: wheel<1.0,>=0.23.0 in c:\\users\\pavel_nazarenko\\anaconda3\\lib\\site-packages (from astunparse>=1.6.0->tensorflow) (0.37.1)\n",
      "Requirement already satisfied: google-auth<3,>=1.6.3 in c:\\users\\pavel_nazarenko\\anaconda3\\lib\\site-packages (from tensorboard<2.11,>=2.10->tensorflow) (1.33.0)\n",
      "Collecting tensorboard-data-server<0.7.0,>=0.6.0\n",
      "  Using cached tensorboard_data_server-0.6.1-py3-none-any.whl (2.4 kB)\n",
      "Collecting google-auth-oauthlib<0.5,>=0.4.1\n",
      "  Using cached google_auth_oauthlib-0.4.6-py2.py3-none-any.whl (18 kB)\n",
      "Requirement already satisfied: werkzeug>=1.0.1 in c:\\users\\pavel_nazarenko\\anaconda3\\lib\\site-packages (from tensorboard<2.11,>=2.10->tensorflow) (2.0.3)\n",
      "Collecting tensorboard-plugin-wit>=1.6.0\n",
      "  Using cached tensorboard_plugin_wit-1.8.1-py3-none-any.whl (781 kB)\n",
      "Requirement already satisfied: markdown>=2.6.8 in c:\\users\\pavel_nazarenko\\anaconda3\\lib\\site-packages (from tensorboard<2.11,>=2.10->tensorflow) (3.3.4)\n",
      "Requirement already satisfied: requests<3,>=2.21.0 in c:\\users\\pavel_nazarenko\\anaconda3\\lib\\site-packages (from tensorboard<2.11,>=2.10->tensorflow) (2.27.1)\n",
      "Requirement already satisfied: rsa<5,>=3.1.4 in c:\\users\\pavel_nazarenko\\anaconda3\\lib\\site-packages (from google-auth<3,>=1.6.3->tensorboard<2.11,>=2.10->tensorflow) (4.7.2)\n",
      "Requirement already satisfied: pyasn1-modules>=0.2.1 in c:\\users\\pavel_nazarenko\\anaconda3\\lib\\site-packages (from google-auth<3,>=1.6.3->tensorboard<2.11,>=2.10->tensorflow) (0.2.8)\n",
      "Requirement already satisfied: cachetools<5.0,>=2.0.0 in c:\\users\\pavel_nazarenko\\anaconda3\\lib\\site-packages (from google-auth<3,>=1.6.3->tensorboard<2.11,>=2.10->tensorflow) (4.2.2)\n",
      "Collecting requests-oauthlib>=0.7.0\n",
      "  Using cached requests_oauthlib-1.3.1-py2.py3-none-any.whl (23 kB)\n",
      "Requirement already satisfied: pyasn1<0.5.0,>=0.4.6 in c:\\users\\pavel_nazarenko\\anaconda3\\lib\\site-packages (from pyasn1-modules>=0.2.1->google-auth<3,>=1.6.3->tensorboard<2.11,>=2.10->tensorflow) (0.4.8)\n",
      "Requirement already satisfied: urllib3<1.27,>=1.21.1 in c:\\users\\pavel_nazarenko\\anaconda3\\lib\\site-packages (from requests<3,>=2.21.0->tensorboard<2.11,>=2.10->tensorflow) (1.26.9)\n",
      "Requirement already satisfied: certifi>=2017.4.17 in c:\\users\\pavel_nazarenko\\anaconda3\\lib\\site-packages (from requests<3,>=2.21.0->tensorboard<2.11,>=2.10->tensorflow) (2021.10.8)\n",
      "Requirement already satisfied: idna<4,>=2.5 in c:\\users\\pavel_nazarenko\\anaconda3\\lib\\site-packages (from requests<3,>=2.21.0->tensorboard<2.11,>=2.10->tensorflow) (3.3)\n",
      "Requirement already satisfied: charset-normalizer~=2.0.0 in c:\\users\\pavel_nazarenko\\anaconda3\\lib\\site-packages (from requests<3,>=2.21.0->tensorboard<2.11,>=2.10->tensorflow) (2.0.4)\n",
      "Collecting oauthlib>=3.0.0\n",
      "  Downloading oauthlib-3.2.1-py3-none-any.whl (151 kB)\n",
      "Requirement already satisfied: pyparsing!=3.0.5,>=2.0.2 in c:\\users\\pavel_nazarenko\\anaconda3\\lib\\site-packages (from packaging->tensorflow) (3.0.4)\n",
      "Installing collected packages: oauthlib, requests-oauthlib, tensorboard-plugin-wit, tensorboard-data-server, google-auth-oauthlib, absl-py, termcolor, tensorflow-io-gcs-filesystem, tensorflow-estimator, tensorboard, opt-einsum, libclang, keras-preprocessing, keras, google-pasta, gast, flatbuffers, astunparse, tensorflow\n",
      "Successfully installed absl-py-1.3.0 astunparse-1.6.3 flatbuffers-22.9.24 gast-0.4.0 google-auth-oauthlib-0.4.6 google-pasta-0.2.0 keras-2.10.0 keras-preprocessing-1.1.2 libclang-14.0.6 oauthlib-3.2.1 opt-einsum-3.3.0 requests-oauthlib-1.3.1 tensorboard-2.10.1 tensorboard-data-server-0.6.1 tensorboard-plugin-wit-1.8.1 tensorflow-2.10.0 tensorflow-estimator-2.10.0 tensorflow-io-gcs-filesystem-0.27.0 termcolor-2.0.1\n"
     ]
    }
   ],
   "source": [
    "!pip install tensorflow"
   ]
  },
  {
   "cell_type": "code",
   "execution_count": 39,
   "id": "f09ef610",
   "metadata": {},
   "outputs": [],
   "source": [
    "import pandas as pd\n",
    "import numpy as np\n",
    "\n",
    "import gensim.downloader as api\n",
    "from gensim.models import Word2Vec, FastText\n",
    "from pymorphy2 import MorphAnalyzer\n",
    "from stop_words import get_stop_words\n",
    "import string\n",
    "from sklearn.model_selection import train_test_split\n",
    "import annoy\n",
    "import re\n",
    "from tqdm import tqdm\n",
    "from tqdm import tqdm_notebook\n",
    "\n",
    "import gensim.models\n",
    "from tensorflow.keras import Sequential\n",
    "from tensorflow.keras.layers import Dense, Embedding, Flatten\n",
    "\n",
    "import warnings \n",
    "warnings.filterwarnings(\"ignore\", category=DeprecationWarning)"
   ]
  },
  {
   "cell_type": "code",
   "execution_count": 40,
   "id": "6b452334",
   "metadata": {},
   "outputs": [
    {
     "name": "stderr",
     "output_type": "stream",
     "text": [
      "99999it [00:02, 42256.52it/s]\n"
     ]
    }
   ],
   "source": [
    "# Сформируем корпус текстов\n",
    "\n",
    "# возьмем заголовок текста\n",
    "corpus_title = []\n",
    "# возьмем сам текст\n",
    "corpus_text = []\n",
    "\n",
    "for num, iter in tqdm(enumerate(records)):\n",
    "    corpus_title.append(iter.title)\n",
    "    corpus_text.append(iter.text)\n",
    "    if num == 99999:\n",
    "        break"
   ]
  },
  {
   "cell_type": "code",
   "execution_count": 41,
   "id": "7d2eedfb",
   "metadata": {},
   "outputs": [
    {
     "data": {
      "text/plain": [
       "('Пензенский губернатор решил оставить без премий работающих сотрудников',\n",
       " 'Губернатор Пензенской области Иван Белозерцев предложил наказывать сотрудников, которые выходят на работу, несмотря на болезнь. Об этом сообщает издание PenzaInform в понедельник, 9 января. «Если руководитель видит, что человек пришел на работу больным, его надо наказать, лишить премии. У нас же люди думают, что они незаменимы, и идут совершать подвиги», — сказал он на совещании регионального правительства. По мнению главы региона, необходимо менять психологию как рядовых сотрудников, которые выходят на работу с повышенной температурой во время эпидемии гриппа и заражают коллег, так и их начальников, которые допускают распространение вируса. По информации НИИ гриппа, на конец декабря прошлого года в Пензе эпидемический порог был превышен примерно на 20 процентов. В октябре Роспотребнадзор рекомендовал работодателям измерять температуру сотрудникам, чтобы избежать распространения этого заболевания.')"
      ]
     },
     "execution_count": 41,
     "metadata": {},
     "output_type": "execute_result"
    }
   ],
   "source": [
    "corpus_title[10], corpus_text[10]"
   ]
  },
  {
   "cell_type": "code",
   "execution_count": 42,
   "id": "8ecc73a7",
   "metadata": {},
   "outputs": [
    {
     "data": {
      "text/html": [
       "<div>\n",
       "<style scoped>\n",
       "    .dataframe tbody tr th:only-of-type {\n",
       "        vertical-align: middle;\n",
       "    }\n",
       "\n",
       "    .dataframe tbody tr th {\n",
       "        vertical-align: top;\n",
       "    }\n",
       "\n",
       "    .dataframe thead th {\n",
       "        text-align: right;\n",
       "    }\n",
       "</style>\n",
       "<table border=\"1\" class=\"dataframe\">\n",
       "  <thead>\n",
       "    <tr style=\"text-align: right;\">\n",
       "      <th></th>\n",
       "      <th>title</th>\n",
       "      <th>text</th>\n",
       "    </tr>\n",
       "  </thead>\n",
       "  <tbody>\n",
       "    <tr>\n",
       "      <th>0</th>\n",
       "      <td>Назван самый популярный российский телеканал 2...</td>\n",
       "      <td>В 2016 году Первый канал уступил первое место ...</td>\n",
       "    </tr>\n",
       "    <tr>\n",
       "      <th>1</th>\n",
       "      <td>Музыкант исполнил песню из «Титаника» ноздрями</td>\n",
       "      <td>Музыкант Сайрус Бхиладвала (Cyrus Bhiladvala) ...</td>\n",
       "    </tr>\n",
       "    <tr>\n",
       "      <th>2</th>\n",
       "      <td>Преподаватель покончил с собой в аудитории пет...</td>\n",
       "      <td>Управление Следственного комитета по Санкт-Пет...</td>\n",
       "    </tr>\n",
       "    <tr>\n",
       "      <th>3</th>\n",
       "      <td>В Москве построят стеклянный автовокзал</td>\n",
       "      <td>На месте здания автовокзала «Щелковский» на во...</td>\n",
       "    </tr>\n",
       "    <tr>\n",
       "      <th>4</th>\n",
       "      <td>Асад заявил о готовности обсуждать любые вопро...</td>\n",
       "      <td>Президент Сирии Башар Асад заявил о готовности...</td>\n",
       "    </tr>\n",
       "  </tbody>\n",
       "</table>\n",
       "</div>"
      ],
      "text/plain": [
       "                                               title  \\\n",
       "0  Назван самый популярный российский телеканал 2...   \n",
       "1     Музыкант исполнил песню из «Титаника» ноздрями   \n",
       "2  Преподаватель покончил с собой в аудитории пет...   \n",
       "3            В Москве построят стеклянный автовокзал   \n",
       "4  Асад заявил о готовности обсуждать любые вопро...   \n",
       "\n",
       "                                                text  \n",
       "0  В 2016 году Первый канал уступил первое место ...  \n",
       "1  Музыкант Сайрус Бхиладвала (Cyrus Bhiladvala) ...  \n",
       "2  Управление Следственного комитета по Санкт-Пет...  \n",
       "3  На месте здания автовокзала «Щелковский» на во...  \n",
       "4  Президент Сирии Башар Асад заявил о готовности...  "
      ]
     },
     "execution_count": 42,
     "metadata": {},
     "output_type": "execute_result"
    }
   ],
   "source": [
    "df = pd.DataFrame(corpus_title, columns=['title'])\n",
    "df['text'] = corpus_text\n",
    "df.head()"
   ]
  },
  {
   "cell_type": "code",
   "execution_count": 43,
   "id": "a738e723",
   "metadata": {},
   "outputs": [],
   "source": [
    "morpher = MorphAnalyzer()\n",
    "sw = set(get_stop_words(\"ru\"))\n",
    "exclude = set(string.punctuation)"
   ]
  },
  {
   "cell_type": "code",
   "execution_count": 44,
   "id": "72949453",
   "metadata": {},
   "outputs": [],
   "source": [
    "#1. Функция преобразования (лемматизация, удаление стоп-слов и пунктуации)\n",
    "def preprocess_txt(line):\n",
    "    spls = \"\".join(i for i in line.strip() if i not in exclude).split()\n",
    "    spls = [morpher.parse(i.lower())[0].normal_form for i in spls]\n",
    "    spls = [i for i in spls if i not in sw and i != \"\"]\n",
    "    return spls"
   ]
  },
  {
   "cell_type": "code",
   "execution_count": 45,
   "id": "4ea7597a",
   "metadata": {},
   "outputs": [],
   "source": [
    "pattern = r'[^а-яА-Я0-9]'\n",
    "df['text'] = df['text'].apply(lambda x: re.sub(pattern, ' ', x))"
   ]
  },
  {
   "cell_type": "code",
   "execution_count": 46,
   "id": "b1cf0d61",
   "metadata": {},
   "outputs": [
    {
     "name": "stdout",
     "output_type": "stream",
     "text": [
      "CPU times: total: 0 ns\n",
      "Wall time: 0 ns\n"
     ]
    },
    {
     "data": {
      "application/vnd.jupyter.widget-view+json": {
       "model_id": "40a13911bca6464fa97ea448ca96c5d8",
       "version_major": 2,
       "version_minor": 0
      },
      "text/plain": [
       "  0%|          | 0/100000 [00:00<?, ?it/s]"
      ]
     },
     "metadata": {},
     "output_type": "display_data"
    }
   ],
   "source": [
    "# создание списка токенов\n",
    "%time\n",
    "\n",
    "sentences = []\n",
    "counter = 0\n",
    "\n",
    "for line in tqdm_notebook(df.text):\n",
    "    spls = preprocess_txt(line)\n",
    "    sentences.append(spls)\n",
    "    counter += 1      \n",
    "    if counter > 100000:\n",
    "        break"
   ]
  },
  {
   "cell_type": "code",
   "execution_count": 47,
   "id": "22f82f62",
   "metadata": {},
   "outputs": [
    {
     "data": {
      "text/plain": [
       "['2016',\n",
       " 'канал',\n",
       " 'уступить',\n",
       " 'место',\n",
       " 'число',\n",
       " 'телезритель',\n",
       " 'россия',\n",
       " '1',\n",
       " 'писать',\n",
       " 'газета',\n",
       " 'ведомость',\n",
       " 'ссылка',\n",
       " 'дать',\n",
       " 'бывший',\n",
       " 'данные',\n",
       " 'телеизмерительный',\n",
       " 'компания',\n",
       " 'канал',\n",
       " 'вгтрк',\n",
       " 'среднее',\n",
       " 'смотреть',\n",
       " '12',\n",
       " '9',\n",
       " 'процент',\n",
       " 'россиянин',\n",
       " 'возраст',\n",
       " 'старший',\n",
       " 'показатель',\n",
       " 'составить',\n",
       " '12',\n",
       " '7',\n",
       " 'процент',\n",
       " 'слово',\n",
       " 'представитель',\n",
       " 'полный',\n",
       " 'текст',\n",
       " 'исследование',\n",
       " 'иметься',\n",
       " 'распоряжение',\n",
       " 'телеканал',\n",
       " '2015',\n",
       " 'россия',\n",
       " '1',\n",
       " 'смотреть',\n",
       " '12',\n",
       " '7',\n",
       " 'процент',\n",
       " 'зритель',\n",
       " 'канал',\n",
       " '13',\n",
       " '7',\n",
       " 'процент',\n",
       " 'терять',\n",
       " 'лидерский',\n",
       " 'позиция',\n",
       " 'аудитория',\n",
       " '2012',\n",
       " 'уступить',\n",
       " 'место',\n",
       " 'нтв',\n",
       " 'последний',\n",
       " 'усилить',\n",
       " 'сеть',\n",
       " 'региональный',\n",
       " 'новость',\n",
       " 'запустить',\n",
       " 'востребовать',\n",
       " 'развлекательный',\n",
       " 'формат',\n",
       " 'выходной',\n",
       " 'например',\n",
       " 'удивительный',\n",
       " 'всероссийский',\n",
       " 'открытый',\n",
       " 'конкурс',\n",
       " 'детский',\n",
       " 'талант',\n",
       " 'синий',\n",
       " 'птица',\n",
       " 'канал',\n",
       " 'смочь',\n",
       " 'усилить',\n",
       " 'сериальный',\n",
       " 'направление',\n",
       " 'будни',\n",
       " 'сделать',\n",
       " 'лидер',\n",
       " 'эфир',\n",
       " 'рассказать',\n",
       " 'представитель',\n",
       " 'вгтрк',\n",
       " 'комментировать',\n",
       " 'успех',\n",
       " 'телеканал',\n",
       " 'представитель',\n",
       " 'отметить',\n",
       " 'канал',\n",
       " 'доверять',\n",
       " 'рейтинг',\n",
       " 'ранний',\n",
       " 'поэтому',\n",
       " 'считать',\n",
       " 'информация',\n",
       " 'компания',\n",
       " 'отражать',\n",
       " 'реальный',\n",
       " 'картина',\n",
       " 'телесмотрение',\n",
       " 'проводить',\n",
       " 'подсчёт',\n",
       " 'город',\n",
       " 'население',\n",
       " '100',\n",
       " 'тысяча',\n",
       " 'помощь',\n",
       " 'пиплметр',\n",
       " 'специальный',\n",
       " 'устройство',\n",
       " 'подключить',\n",
       " 'телевизор',\n",
       " 'фиксировать',\n",
       " 'смотреть',\n",
       " 'зритель']"
      ]
     },
     "execution_count": 47,
     "metadata": {},
     "output_type": "execute_result"
    }
   ],
   "source": [
    "\n",
    "sentences[0]"
   ]
  },
  {
   "cell_type": "code",
   "execution_count": 48,
   "id": "20bff1d3",
   "metadata": {},
   "outputs": [
    {
     "name": "stdout",
     "output_type": "stream",
     "text": [
      "CPU times: total: 0 ns\n",
      "Wall time: 0 ns\n"
     ]
    }
   ],
   "source": [
    "%time\n",
    "modelW2V = Word2Vec(sentences=sentences, vector_size=100, window=5, min_count=2)"
   ]
  },
  {
   "cell_type": "code",
   "execution_count": 49,
   "id": "e366c970",
   "metadata": {},
   "outputs": [
    {
     "name": "stdout",
     "output_type": "stream",
     "text": [
      "CPU times: total: 0 ns\n",
      "Wall time: 0 ns\n"
     ]
    }
   ],
   "source": [
    "%time\n",
    "modelFT = FastText(sentences=sentences, vector_size=100, min_count=2, window=5, workers=8)"
   ]
  },
  {
   "cell_type": "code",
   "execution_count": 50,
   "id": "6fbfd7cf",
   "metadata": {},
   "outputs": [
    {
     "data": {
      "application/vnd.jupyter.widget-view+json": {
       "model_id": "d8983ad37f194a398647ac39c912ada8",
       "version_major": 2,
       "version_minor": 0
      },
      "text/plain": [
       "  0%|          | 0/100000 [00:00<?, ?it/s]"
      ]
     },
     "metadata": {},
     "output_type": "display_data"
    },
    {
     "data": {
      "text/plain": [
       "True"
      ]
     },
     "execution_count": 50,
     "metadata": {},
     "output_type": "execute_result"
    }
   ],
   "source": [
    "w2v_index = annoy.AnnoyIndex(100 ,'angular')\n",
    "ft_index = annoy.AnnoyIndex(100 ,'angular')\n",
    "\n",
    "index_map = {}\n",
    "counter = 0\n",
    "\n",
    "for line in tqdm_notebook(df.text):\n",
    "        n_w2v = 0\n",
    "        n_ft = 0\n",
    "        spls = line\n",
    "        index_map[counter] = spls\n",
    "        question = preprocess_txt(spls)\n",
    "        \n",
    "        vector_w2v = np.zeros(100)\n",
    "        vector_ft = np.zeros(100)\n",
    "        for word in question:\n",
    "            if word in modelW2V.wv:\n",
    "                vector_w2v += modelW2V.wv[word]\n",
    "                n_w2v += 1\n",
    "            if word in modelFT.wv:\n",
    "                vector_ft += modelFT.wv[word]\n",
    "                n_ft += 1\n",
    "        if n_w2v > 0:\n",
    "            vector_w2v = vector_w2v / n_w2v\n",
    "        if n_ft > 0:\n",
    "            vector_ft = vector_ft / n_ft\n",
    "        w2v_index.add_item(counter, vector_w2v)\n",
    "        ft_index.add_item(counter, vector_ft)\n",
    "            \n",
    "        counter += 1\n",
    "        # ограничение в  100000 строк\n",
    "        if counter > 100000:\n",
    "            break\n",
    "    \n",
    "\n",
    "w2v_index.build(10)\n",
    "ft_index.build(10)"
   ]
  },
  {
   "cell_type": "code",
   "execution_count": 51,
   "id": "7211c7da",
   "metadata": {},
   "outputs": [],
   "source": [
    "# 5 ближайших\n",
    "\n",
    "def get_response(question, index, model, index_map):\n",
    "    question = preprocess_txt(question)\n",
    "#     print(question)\n",
    "    vector = np.zeros(100)\n",
    "    norm = 0\n",
    "    for word in question:\n",
    "        if word in model.wv:\n",
    "            vector += model.wv[word]\n",
    "            norm += 1\n",
    "    if norm > 0:\n",
    "        vector = vector / norm\n",
    "    answers = index.get_nns_by_vector(vector, 5, )\n",
    "    return [index_map[i] for i in answers]"
   ]
  },
  {
   "cell_type": "code",
   "execution_count": 52,
   "id": "0e0bb52e",
   "metadata": {},
   "outputs": [],
   "source": [
    "TEXT = 'экономическая политика России'"
   ]
  },
  {
   "cell_type": "code",
   "execution_count": 53,
   "id": "0a9c0fb0",
   "metadata": {},
   "outputs": [
    {
     "data": {
      "text/plain": [
       "['Россия готова вместе с Евросоюзом формировать  большую Европу   несмотря на всю ошибочность санкций и ответственность Евросоюза за кризис на Украине  Такое заявление сделал вице премьер Игорь Шувалов  выступая на заседании Валдайского клуба в пятницу  19 июня  в рамках Петербургского международного экономического форума  ПМЭФ   передает  Интерфакс    Мы все время поддерживали эту идею  большой Европы   формирования общего экономического пространства  И понимали  что затянувшаяся дискуссия по новому базовому договору  между РФ и ЕС    это большая ошибка     сказал Шувалов  Он подчеркнул  что  несмотря на введенные Европой в отношении России санкции  в правительстве не забыли о необходимости укрепления европейского сотрудничества и о формировании с Евросоюзом общего экономического пространства  Вице премьер выразил надежду  что после разрешения украинского кризиса Россия и Брюссель смогут построить прочные партнерские отношения  Также Шувалов подчеркнул  что причиной кризиса на Украине является  на его взгляд   Восточное партнерство  Евросоюза   проект развития интеграционных связей с шестью бывшими советскими республиками  в число которых помимо Украины входят Белоруссия  Армения  Азербайджан  Грузия и Молдавия   Само решение Евросоюза предложить этот формат было глубочайшей ошибкой    подчеркнул он    Эта ошибка привела к таким плачевным последствиям  которые мы сегодня наблюдаем на Украине   Вместе с тем вице премьер подчеркнул  что Россия открывает новую эру во взаимоотношениях с Китаем  поскольку принято принципиальное решение о безопасности прихода китайских инвесторов в экономику России   Совет безопасности по этому поводу заслушал доклад  принял необходимое решение     отметил Шувалов  По его словам  оценки китайских партнеров свидетельствуют  что между Россией и КНР подписано соглашений на 1 триллион долларов ',\n",
       " 'Канцлер Германии Ангела Меркель заявила о важности создания зоны свободной торговли с Россией  передает ТАСС  Такую точку зрения она высказала на экономическом форуме в городе Штральзунде   Перспектива большой зоны свободной торговли   Россией важна и для нас     сказала Меркель  Она отметила  что между двумя странами   есть проблемы политического характера   но  по ее мнению  их можно преодолеть путем политического диалога  Меркель подчеркнула  что соглашения  об ассоциации с ЕС   которые были заключены с Молдавией и Украиной  не направлены против России  а  напротив  двигают страны к общей торговой зоне   Мы приближаем их шаг за шагом к общему экономическому пространству  как однажды сказал  президент РФ  Владимир Путин   от Владивостока до Лиссабона     сказала Меркель  Кроме того  канцлер ФРГ отметила важность выполнения минских соглашений  О том  что между ЕС и ЕАЭС может быть создана зона свободной торговли  впервые было заявлено в конце 2014 года  Меркель обосновала это  в частности  тем  что это могло бы снять вопросы технического характера между Россией и Украиной  подписавшей соглашение о зоне свободной торговли с ЕС  В январе 2015 года директор Объединения торгово промышленных палат Германии        Мартин Ванслебен отметил целесообразность создания зоны свободной торговли между Германией и Россией  Глава министерства экономики и энергетики Германии Зигмар Габриэль также высказался о том  что после окончания конфликта на Украине страны ЕС могли бы начать переговоры с Россией по этому вопросу  9 марта  находясь с визитом в Японии  Меркель  призвала сохранить санкции против России в связи с ситуацией на Украине  Вместе с этим она признала необходимость поиска дипломатического решения конфликта ',\n",
       " 'Премьер министр Греции Алексис Ципрас объяснил свое присутствие на Петербургском международном экономическом форуме  ПМЭФ   а не на переговорах в Брюсселе важностью отношений с Россией  По его словам  экономический центр сдвинулся  Трансляция мероприятия доступна на сайте ПМЭФ  В своей речи Ципрас отметил  что порочный круг западных санкций должен быть разорван как можно быстрее  Премьер министр заявил  что роль России в мире возрастает  а Европе не стоит считать себя  пупом Земли   ЕС должен понять  что центр мирового экономического развития смещается в другие регионы  сказал Ципрас  Он также подчеркнул  что проблемы Греции   это проблемы всей еврозоны и ее структуры  Политика  затягивания поясов  ошибочна и ведет в никуда  добавил он  Греческий премьер поднялся на сцену сразу после выступления президента России Владимира Путина  Глава государства говорил о необходимости создания прозрачных и привлекательных условий для бизнеса ',\n",
       " 'Россия не будет отдавать предпочтения в сотрудничестве ни Евросоюзу  ни странам Азии  Об этом заявил российский министр иностранных дел Сергей Лавров  выступая в четверг  1 сентября  перед студентами и преподавателями МГИМО  сообщает ТАСС   Мы не будем шарахаться ни в одну сторону  Мы евразийская держава  так распорядилась история  так распорядилась природа  так распорядились  прежде всего  наши великие предки  поэтому мы должны       работать на всех направлениях     отметил министр  Глава МИД отметил  что в мире появляются новые влиятельные экономические и политические центры   Это прежде всего наблюдается в Азиатско Тихоокеанском регионе  который стал и еще долго будет оставаться локомотивом мирового экономического развития  И это все происходит на фоне того  что наш крупнейший торговый партнер   Евросоюз  и он таковым остается  несмотря на кризис  несмотря на санкции     добавил Лавров  1 сентября 2015 года  выступая с традиционным обращением к учащимся МГИМО  Сергей Лавров назвал  введение антироссийских ограничительных мер  вывертами западных партнеров    Мы на тему санкций внимание обращаем только с точки зрения того  чтобы мы были внутри страны готовы к подобного рода вывертам наших западных партнеров и не зависели от них в тех областях  которые жизненно важны для нашей страны  для наших граждан     сообщил министр  Антироссийские санкции со стороны Европейского союза  США и ряда других стран были введены в связи с обострением ситуации на юго востоке Украины и вхождением Крыма в состав России в 2014 году  Меры затронули энергетический  оборонный и финансовый секторы ',\n",
       " 'Россия в ответ на санкции намерена расширять свободу предпринимательства внутри страны и развивать экономические связи с другими странами  Об этом в четверг  24 декабря  заявил президент РФ Владимир Путин на встрече в Кремле с представителями деловых кругов   Наш ответ на внешние ограничения   это расширение свободы предпринимательства  защита собственности  прав всех  кто честно работает  делает свой бизнес  Намерены совершенствовать деятельность и правоохранительных  и следственных  судебных органов     приводит слова президента его пресс служба  Путин отметил  что российские компании адаптируются к новым условиям и не теряют стратегического видения развития  повышают свою эффективность  инвестируют в создание новых производств и стремятся осваивать новые рынки  По словам президента  активное присутствие на глобальных рынках отечественного бизнеса является вкладом в повышение авторитета и престижа России  а также в укрепление ее суверенитета  Путин напомнил о планах правительства по началу консультаций между членами Шанхайской организации сотрудничества  ШОС  и Ассоциация стран Юго Восточной Азии  АСЕАН  о формировании возможного экономического партнерства   Это колоссальный рынок  И просил бы вас тоже подготовить предложения по конфигурации этого сотрудничества  по задачам такого возможного объединения      добавил глава государства  Президент назвал хорошей традицией проведение подобных встреч и заверил  что власть и бизнес будут действовать как партнеры в интересах развития страны  22 декабря вступило в силу решение ЕС о продлении антироссийских санкций на шесть месяцев   до 31 июля 2016 года  Ограничительные меры в отношении Москвы введены Брюсселем весной 2014 года после присоединения Крыма к России и начала конфликта на юго востоке Украины  Изначально ограничения коснулись некоторых физических и юридических лиц  но позднее были приняты экономические санкции  затрагивают энергетический  оборонный и финансовый сектора  ']"
      ]
     },
     "execution_count": 53,
     "metadata": {},
     "output_type": "execute_result"
    }
   ],
   "source": [
    "get_response(TEXT, w2v_index, modelW2V, index_map)"
   ]
  },
  {
   "cell_type": "code",
   "execution_count": 54,
   "id": "b319c58b",
   "metadata": {},
   "outputs": [
    {
     "data": {
      "text/plain": [
       "['Канцлер Германии Ангела Меркель заявила о важности создания зоны свободной торговли с Россией  передает ТАСС  Такую точку зрения она высказала на экономическом форуме в городе Штральзунде   Перспектива большой зоны свободной торговли   Россией важна и для нас     сказала Меркель  Она отметила  что между двумя странами   есть проблемы политического характера   но  по ее мнению  их можно преодолеть путем политического диалога  Меркель подчеркнула  что соглашения  об ассоциации с ЕС   которые были заключены с Молдавией и Украиной  не направлены против России  а  напротив  двигают страны к общей торговой зоне   Мы приближаем их шаг за шагом к общему экономическому пространству  как однажды сказал  президент РФ  Владимир Путин   от Владивостока до Лиссабона     сказала Меркель  Кроме того  канцлер ФРГ отметила важность выполнения минских соглашений  О том  что между ЕС и ЕАЭС может быть создана зона свободной торговли  впервые было заявлено в конце 2014 года  Меркель обосновала это  в частности  тем  что это могло бы снять вопросы технического характера между Россией и Украиной  подписавшей соглашение о зоне свободной торговли с ЕС  В январе 2015 года директор Объединения торгово промышленных палат Германии        Мартин Ванслебен отметил целесообразность создания зоны свободной торговли между Германией и Россией  Глава министерства экономики и энергетики Германии Зигмар Габриэль также высказался о том  что после окончания конфликта на Украине страны ЕС могли бы начать переговоры с Россией по этому вопросу  9 марта  находясь с визитом в Японии  Меркель  призвала сохранить санкции против России в связи с ситуацией на Украине  Вместе с этим она признала необходимость поиска дипломатического решения конфликта ',\n",
       " 'Россия готова вместе с Евросоюзом формировать  большую Европу   несмотря на всю ошибочность санкций и ответственность Евросоюза за кризис на Украине  Такое заявление сделал вице премьер Игорь Шувалов  выступая на заседании Валдайского клуба в пятницу  19 июня  в рамках Петербургского международного экономического форума  ПМЭФ   передает  Интерфакс    Мы все время поддерживали эту идею  большой Европы   формирования общего экономического пространства  И понимали  что затянувшаяся дискуссия по новому базовому договору  между РФ и ЕС    это большая ошибка     сказал Шувалов  Он подчеркнул  что  несмотря на введенные Европой в отношении России санкции  в правительстве не забыли о необходимости укрепления европейского сотрудничества и о формировании с Евросоюзом общего экономического пространства  Вице премьер выразил надежду  что после разрешения украинского кризиса Россия и Брюссель смогут построить прочные партнерские отношения  Также Шувалов подчеркнул  что причиной кризиса на Украине является  на его взгляд   Восточное партнерство  Евросоюза   проект развития интеграционных связей с шестью бывшими советскими республиками  в число которых помимо Украины входят Белоруссия  Армения  Азербайджан  Грузия и Молдавия   Само решение Евросоюза предложить этот формат было глубочайшей ошибкой    подчеркнул он    Эта ошибка привела к таким плачевным последствиям  которые мы сегодня наблюдаем на Украине   Вместе с тем вице премьер подчеркнул  что Россия открывает новую эру во взаимоотношениях с Китаем  поскольку принято принципиальное решение о безопасности прихода китайских инвесторов в экономику России   Совет безопасности по этому поводу заслушал доклад  принял необходимое решение     отметил Шувалов  По его словам  оценки китайских партнеров свидетельствуют  что между Россией и КНР подписано соглашений на 1 триллион долларов ',\n",
       " 'Посол России в  Латвии Александр Вешняков выразил уверенность в том  что отношения между Москвой и Ригой находятся в глубочайшем кризисе за последние 20 лет  Как сообщает        об этом он заявил в ходе своего выступления на  Балтийском форуме   Вешняков охарактеризовал существующее взаимодействие между странами как  техническое поддержание сотрудничества   а решить проблему  по его мнению  можно лишь совместными усилиями   К сожалению  под давлением исторических фобий и желаний старших партнеров в Латвии доминирует  по нашему мнению  ангажированное видение событий на Украине и необъективное отношение к российской тематике     отметил он  В качестве подтверждения своих слов посол привел несколько экономических показателей  В частности  по его словам  в первом полугодии 2015 го товарооборот между Россией и Латвией сократился на 44 процента по сравнению с аналогичным периодом прошлого года  Наиболее негативно это отразилось на производителях продуктов питания  предприятиях легкой промышленности и авиаперевозчиках  добавил Вешняков  Отношения между Россией и странами членами Евросоюза  в том числе Латвией  ухудшились в марте 2014 года на фоне вхождения Крыма в состав РФ и последовавшего за этим конфликта в Донбассе  В странах Прибалтики тогда открыто заговорили о возможной военной агрессии со стороны Кремля  С экономической точки зрения взаимодействие между Москвой и Ригой ухудшилось из за санкции ЕС и ответных контрсанкций России  которая в августе прошлого года ввела эмбарго на поставку ряда продуктов из Евросоюза ',\n",
       " 'Рассуждения Запада о продлении санкций против России на фоне совершенных терактов выглядят дико и глупо  считает спикер Госдумы Сергей Нарышкин  Об этом сообщает ТАСС  По мнению председателя нижней палаты парламента  подобные идеи свидетельствуют о проблемах с моралью и совестью политических элит некоторых западных стран  передает РИА Новости   Уверен  что этих политиков не понимают уже и собственные народы  Кто объяснит  почему в такой ситуации педалируется продление санкций против российских политиков и парламентариев  что  неужели диалог в нынешних условиях не нужен     сказал Нарышкин на совместном заседании Совфеда и Госдумы по борьбе с терроризмом  Спикер также добавил  что судьба мира для Запада   не пустой звук  и  разум вернется ко всем партнерам РФ   На собрании председатель Совета Федерации Валентина Матвиенко выступила за создание международного трибунала для того  чтобы  сурово покарать террористов и их пособников  совершивших чудовищные преступления против человечности   18 ноября                         сообщила о планах ЕС и США продлить и расширить санкции против России  Меры  действие которых хотят пролонгировать  включают ограничения на сотрудничество с российскими оборонными и энергетическими компаниями  В отношении России действуют санкции ряда стран  в частности США и государств ЕС  Ограничительные меры они стали вводить на фоне присоединения Крыма к России в марте 2014 года  а затем   в связи с конфликтом на востоке Украины  участником которого  по многочисленным заявлениям Москвы  она не является  К примеру  в черные списки Евросоюза вошли полторы сотни физических лиц  и россияне  и украинцы   а также компании  организации и объединения  в частности  крымские и  как считают в ЕС  сепаратистские  ',\n",
       " 'Греция категорически не согласна с санкциями Запада против России   Это дорога в никуда     заявил премьер министр Алексис Ципрас в интервью ТАСС в преддверии своего визита в Москву  который намечен на 8 апреля  Руководитель греческого правительства считает  что санкции бессмысленны  а ответные меры России  в частности в виде эмбарго на поставки на российский рынок определенных товаров  наносят серьезный ущерб экономике Греции  По словам Ципраса  Греция способна и хочет экспортировать много сельхозпродукции в Россию  но  в последние годы по этим отношениям был нанесен удар  так как предыдущие правительства в моей стране не делали того  что могли бы сделать во избежание этой бессмысленной  на мой взгляд  политики санкций из за напряженности на Украине   Ципрас напомнил  что сразу после прихода к власти позвонил главе Европейского совета Дональду Туску и сказал ему  что правительство в Греции поменялось и его позиция по международным вопросам  в частности по вопросу об антироссийских санкциях  тоже изменилась   Мы не согласны с санкциями  Я сторонник точки зрения  что необходим диалог  дипломатия  нужно сесть за стол переговоров и найти решения по основным проблемам     сказал он   Я   за дипломатию     отметил глава греческого кабинета   Считаю очень важным достижение минских договоренностей  А экономическая война как продолжение настоящей войны   это тупиковая политика     заключил он  Агентство           18 марта опубликовало материал  в котором были перечислены страны члены Евросоюза  готовые отказаться от санкций против России  По информации агентства  это Кипр  Италия  Греция  Венгрия  Словакия  Австрия и Испания  Первые санкции Евросоюза и ряда других стран в отношении России были введены в марте 2014 года  Ограничения были наложены на фоне присоединения Крыма к России и конфликта на востоке Украины  Тогда вступил в силу первый пакет санкций  которые предусматривали замораживание активов и вводили визовые ограничения для ряда лиц  попавших в специальные списки  Это касалось и некоторых компаний  Позднее черные списки неоднократно расширялись  Кроме того  вводились новые ограничения  которые затрагивали целые секторы российской экономики ']"
      ]
     },
     "execution_count": 54,
     "metadata": {},
     "output_type": "execute_result"
    }
   ],
   "source": [
    "get_response(TEXT, ft_index, modelFT, index_map)"
   ]
  },
  {
   "cell_type": "code",
   "execution_count": 55,
   "id": "e38c14da",
   "metadata": {},
   "outputs": [],
   "source": [
    "TEXT = 'экономика'"
   ]
  },
  {
   "cell_type": "code",
   "execution_count": 56,
   "id": "d4e464b1",
   "metadata": {},
   "outputs": [
    {
     "data": {
      "text/plain": [
       "['Председатель Банка России Эльвира Набиуллина считает  что ближайшие три года будут трудными для российской экономики  сообщает ТАСС  По ее словам  она пока не ждет существенной перестройки экономики и увеличения ее потенциала  Потенциальные темпы роста оцениваются ЦБ ниже двух процентов  если не будут осуществлены структурные изменения  Набиуллина отметила  что самый важный итог адаптации экономики к новым условиям   это то  что она начинает нащупывать новую модель развития   Задача ЦБ здесь   поддержать этот процесс  обеспечить стабильные финансовые условия для формирования внутренних источников инвестиций     сказала глава регулятора  Набиуллина отметила  что восстановление экономики России может быть растянуто по времени в отличие от кризиса 2008 2009 годов   К настоящему времени наметились признаки восстановления экономики  и в следующем году Банк России ожидает небольшой прирост ВВП  но мы видим  что процессы в разных отраслях и разных регионах очень неустойчивы     добавила она  1 ноября завотделом международных рынков капитала Института мировой экономики и международных отношений  ИМЭМО  РАН Яков Миркин в беседе с  Лентой ру  заявил  что экономика России застыла на уровне 2015 года  рост ВВП будет колебаться на минимальных значениях  а уровень жизни будет снижаться  28 октября Минэкономразвития опубликовало прогноз социально экономического развития России  в котором основными приоритетами экономической политики в период с 2017 по 2019 год названы импортозамещение и повышение качества жизни россиян  В документе также говорится  что экономика страны перейдет от стагнации к восстановлению в конце 2016 года ',\n",
       " 'Макроэкономическая ситуация в России является почти идеальной  Об этом во вторник  29 ноября  заявил первый вице премьер Игорь Шувалов  передает ТАСС   Я вам серьезно скажу  что у нас реально с макроэкономикой нет проблем  У нас есть единственный параметр  по которому если мы отработаем  то будем считать  что наша макроэкономическая ситуация практически идеальная    это контролируемая инфляция     приводит агентство слова чиновника  28 ноября Организация экономического сотрудничества и развития  ОЭСР  улучшила прогноз по экономике России  ВВП в нынешнем году сократится на 0 8 процента и увеличится на ту же величину в 2017 году  прогнозируют эксперты ОЭСР  Также в конце ноября Шувалов заявил  что экономика России приведена в рабочее состояние и в следующем году рост ВВП будет на уровне одного процента  По его словам  самый тяжелый период для страны позади  18 ноября министр финансов Антон Силуанов констатировал  что  несмотря на низкие цены на нефть и давление санкций  экономика России не обрушилась ',\n",
       " 'Экономика России может начать расти в ближайшие месяцы  Об этом  как сообщает ТАСС  в эфире телеканала  Россия 24  заявил вице премьер Аркадий Дворкович   Снижение инфляции  постепенное снижение ключевой ставки и процентных ставок в целом позволяют рассчитывать на улучшение ситуации и на начало периода экономического роста уже в ближайшие месяцы     сказал он  По словам вице премьера  сигналы устойчивого роста экономики в стране уже можно наблюдать   Некоторые сектора растут уже довольно устойчиво  Мы постепенно выстраиваем систему поддержки экспорта  Несырьевой экспорт уже начал расти  Также обустраиваем поддержу малого и среднего бизнеса     отметил Дворкович  В Центробанке считают  что во втором полугодии нынешнего года будет зафиксирован положительный квартальный прирост ВВП  в 2017 году темпы прироста составят около одного процента   Данный прогноз исходит из консервативных предпосылок о низких темпах роста мировой экономики  среднегодовой цены на нефть около 40 долларов США за баррель и сохранении структурных ограничений развития российской экономики     говорится в сообщении на сайте ЦБ ',\n",
       " 'Экономика России застыла на уровне 2015 года  рост ВВП будет колебаться на минимальных значениях  а уровень жизни будет снижаться  Об этом в беседе с  Лентой ру  заявил завотделом международных рынков капитала Института мировой экономики и международных отношений  ИМЭМО  РАН Яков Миркин   Мой прогноз  в обозримой перспективе   экономика в болоте  болтанка вокруг нуля с ожиданием следующих  черных лебедей      сказал Миркин  Таким образом эксперт прокомментировал заявление Минэкономразвития  согласно которому рост ВВП начнется в конце нынешнего года  Экономика России остается зависимой от внешних факторов  отметил эксперт   Главным  поводком  по прежнему является курс доллара и цены на сырье  а также от возможности поддерживать физические объемы добычи сырья     подчеркнул Миркин  При этом рубль в настоящее время переоценен   Если он будет оставаться на нынешнем уровне   62 63 рубля за доллар  то это станет тормозом экономики  особенно в сфере публичных финансов     уверен представитель ИМЭМО  Развитие экономики сдерживается высокими налогами  административными издержками и сверхвысокими процентными ставками  подчеркнул он  Политика ЦБ  по мнению Миркина  привела к удорожанию кредитов   От этого страдает прежде всего малый бизнес     подчеркнул он  При этом имеются определенные успехи в ВПК  аграрном секторе и отдельных регионах  но они вряд ли дадут импульс общему подъему экономики  отметил эксперт   Рост в сельском хозяйстве России достигнут за счет бюджетных субсидий  а в экономике в целом тот же самый эффект может быть достигнут за счет снижения налогов и процентных ставок     считает Миркин  28 октября Минэкономразвития опубликовало прогноз социально экономического развития России  в котором основными приоритетами экономической политики в период с 2017 по 2019 год названы импортозамещение и повышение качества жизни россиян  В документе также говорится  что экономика страны перейдет от стагнации к восстановлению в конце 2016 года  20 октября эксперты РАНХиГС в своем мониторинге социально экономического положения России сообщили  что доходы россиян в третьем квартале 2016 года упали на 6 1 процента по сравнению с аналогичным периодом прошлого года  Такого снижения благосостояния в период с июля по сентябрь не наблюдалось с 1999 года  отметили они ',\n",
       " 'Экономика России не сможет расти больше полутора двух процентов в год при отсутствии структурных реформ  Об этом заявила председатель Банка России Эльвира Набиуллина  сообщает корреспондент  Ленты ру  с Биржевого форума во вторник  12 апреля  По ее словам  такую планку не удастся преодолеть даже при ценах на нефть на уровне 100 долларов за баррель  Она добавила  что устойчивый рост может обеспечить только инвестиционный тип развития  В целом для такого роста нужно сочетание трех факторов   ответственной макроэкономической политики  структурных реформ и развития рынка капитала  При этом Набиуллина допустила  что в квартальном выражении к экономическому росту страна может вернуться уже в 2016 м  хотя в целом по году показатели могут быть отрицательными  Глава ЦБ также заявила  что в экономике может начаться период снижения ставок  Однако базой для этого будет являться только замедление инфляции  Попытки же подстегивания экономического роста через разгон инфляции приведут к потере контроля над ней  7 апреля Набиуллина  выступая на съезде Ассоциации российских банков  также заявила  что ЦБ сможет активнее снижать ключевую ставку при устойчивом замедлении инфляции   Иными словами  более высокие ставки сегодня позволят обеспечить более низкие ставки завтра     сказала она  При этом она подчеркнула  что ситуация в российской экономике и финансовой системе улучшилась  выросли цены на нефть  укрепился рубль ']"
      ]
     },
     "execution_count": 56,
     "metadata": {},
     "output_type": "execute_result"
    }
   ],
   "source": [
    "get_response(TEXT, ft_index, modelFT, index_map)"
   ]
  }
 ],
 "metadata": {
  "kernelspec": {
   "display_name": "Python 3 (ipykernel)",
   "language": "python",
   "name": "python3"
  },
  "language_info": {
   "codemirror_mode": {
    "name": "ipython",
    "version": 3
   },
   "file_extension": ".py",
   "mimetype": "text/x-python",
   "name": "python",
   "nbconvert_exporter": "python",
   "pygments_lexer": "ipython3",
   "version": "3.9.12"
  }
 },
 "nbformat": 4,
 "nbformat_minor": 5
}
