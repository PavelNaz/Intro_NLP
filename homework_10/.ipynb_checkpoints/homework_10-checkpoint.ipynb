{
 "cells": [
  {
   "cell_type": "code",
   "execution_count": 1,
   "metadata": {
    "id": "rWZMDyRW0sv-"
   },
   "outputs": [],
   "source": [
    "import tensorflow as tf\n",
    "\n",
    "import matplotlib.pyplot as plt\n",
    "import matplotlib.ticker as ticker\n",
    "from sklearn.model_selection import train_test_split\n",
    "\n",
    "import unicodedata\n",
    "import re\n",
    "import numpy as np\n",
    "import os\n",
    "import io\n",
    "import time"
   ]
  },
  {
   "cell_type": "code",
   "execution_count": 2,
   "metadata": {
    "colab": {
     "base_uri": "https://localhost:8080/"
    },
    "id": "Q7hTfdJo009n",
    "outputId": "7a80b359-ab07-427a-82fc-2a354f393f65"
   },
   "outputs": [
    {
     "name": "stdout",
     "output_type": "stream",
     "text": [
      "--2022-11-07 12:36:48--  http://www.manythings.org/anki/rus-eng.zip\n",
      "Resolving www.manythings.org (www.manythings.org)... 173.254.30.110\n",
      "Connecting to www.manythings.org (www.manythings.org)|173.254.30.110|:80... connected.\n",
      "HTTP request sent, awaiting response... 200 OK\n",
      "Length: 15011848 (14M) [application/zip]\n",
      "Saving to: ‘rus-eng.zip.2’\n",
      "\n",
      "rus-eng.zip.2       100%[===================>]  14.32M  25.2MB/s    in 0.6s    \n",
      "\n",
      "2022-11-07 12:36:49 (25.2 MB/s) - ‘rus-eng.zip.2’ saved [15011848/15011848]\n",
      "\n"
     ]
    }
   ],
   "source": [
    "!wget http://www.manythings.org/anki/rus-eng.zip"
   ]
  },
  {
   "cell_type": "code",
   "execution_count": 3,
   "metadata": {
    "colab": {
     "base_uri": "https://localhost:8080/"
    },
    "id": "uS56Zh6m01BX",
    "outputId": "b600c284-cf66-4695-bc2d-7e9e9fe6fc0b"
   },
   "outputs": [
    {
     "name": "stdout",
     "output_type": "stream",
     "text": [
      "mkdir: cannot create directory ‘rus-eng’: File exists\n",
      "Archive:  rus-eng.zip\n",
      "replace rus-eng/rus.txt? [y]es, [n]o, [A]ll, [N]one, [r]ename: A\n",
      "  inflating: rus-eng/rus.txt         \n",
      "  inflating: rus-eng/_about.txt      \n"
     ]
    }
   ],
   "source": [
    "!mkdir rus-eng\n",
    "!unzip rus-eng.zip -d rus-eng/"
   ]
  },
  {
   "cell_type": "code",
   "execution_count": 4,
   "metadata": {
    "colab": {
     "base_uri": "https://localhost:8080/"
    },
    "id": "JGyJq6ik01E-",
    "outputId": "94be3287-46d9-470a-8aef-24f5baed43fc"
   },
   "outputs": [
    {
     "name": "stdout",
     "output_type": "stream",
     "text": [
      "total 72M\n",
      "drwxr-xr-x 2 root root 4.0K Nov  7 12:36 .\n",
      "drwxr-xr-x 1 root root 4.0K Nov  7 12:36 ..\n",
      "-rw-r--r-- 1 root root 1.5K Sep  6 03:10 _about.txt\n",
      "-rw-r--r-- 1 root root  72M Sep  6 03:10 rus.txt\n"
     ]
    }
   ],
   "source": [
    "!ls /content/rus-eng/ -lah"
   ]
  },
  {
   "cell_type": "code",
   "execution_count": 5,
   "metadata": {
    "colab": {
     "base_uri": "https://localhost:8080/"
    },
    "id": "UiTUB5pG01Hd",
    "outputId": "d4fdfa00-0edd-41f7-bad4-3a0f916509ce"
   },
   "outputs": [
    {
     "name": "stdout",
     "output_type": "stream",
     "text": [
      "Go.\tМарш!\tCC-BY 2.0 (France) Attribution: tatoeba.org #2877272 (CM) & #1159202 (shanghainese)\n",
      "\n"
     ]
    }
   ],
   "source": [
    "path_to_file = \"/content/rus-eng/rus.txt\"\n",
    "\n",
    "f = open(path_to_file)\n",
    "for line in f:\n",
    "    print(line)\n",
    "    break"
   ]
  },
  {
   "cell_type": "code",
   "execution_count": 6,
   "metadata": {
    "id": "UXl-Blw-01KN"
   },
   "outputs": [],
   "source": [
    "def preprocess_sentence(w):\n",
    "    w = w.lower().strip()\n",
    "\n",
    "    w = re.sub(r\"([?.!,])\", r\" \\1 \", w)\n",
    "    w = re.sub(r'[\" \"]+', \" \", w)\n",
    "\n",
    "    w = re.sub(r\"[^a-zA-Zа-яА-Я?.!,']+\", \" \", w)\n",
    "  \n",
    "    w = w.strip()\n",
    "\n",
    "    w = '<start> ' + w + ' <end>'\n",
    "    return w"
   ]
  },
  {
   "cell_type": "code",
   "execution_count": 7,
   "metadata": {
    "id": "adNwUkxA01MN"
   },
   "outputs": [],
   "source": [
    "def create_dataset(path, num_examples):\n",
    "    lines = io.open(path, encoding='UTF-8').read().strip().split('\\n')\n",
    "    word_pairs = [[preprocess_sentence(w) for w in l.split('\\t')[:2]]  for l in lines[:num_examples]]\n",
    "    return zip(*word_pairs)"
   ]
  },
  {
   "cell_type": "code",
   "execution_count": 8,
   "metadata": {
    "colab": {
     "base_uri": "https://localhost:8080/"
    },
    "id": "nhpZj2BQ01Od",
    "outputId": "7fb42e5b-06d1-4125-e1cc-7033c34fd64e"
   },
   "outputs": [
    {
     "name": "stdout",
     "output_type": "stream",
     "text": [
      "<start> go . <end>\n",
      "<start> марш ! <end>\n"
     ]
    }
   ],
   "source": [
    "en, ru = create_dataset(path_to_file, None)\n",
    "print(en[0])\n",
    "print(ru[0])"
   ]
  },
  {
   "cell_type": "code",
   "execution_count": 9,
   "metadata": {
    "colab": {
     "base_uri": "https://localhost:8080/"
    },
    "id": "CqBDIyF_01Q1",
    "outputId": "b4b3db6a-1072-4535-ca70-eb1a297c24f2"
   },
   "outputs": [
    {
     "data": {
      "text/plain": [
       "(451436, 451436)"
      ]
     },
     "execution_count": 9,
     "metadata": {},
     "output_type": "execute_result"
    }
   ],
   "source": [
    "len(en), len(ru)"
   ]
  },
  {
   "cell_type": "code",
   "execution_count": 10,
   "metadata": {
    "id": "ovp2bnLK01S9"
   },
   "outputs": [],
   "source": [
    "def tokenize(lang):\n",
    "    lang_tokenizer = tf.keras.preprocessing.text.Tokenizer(filters='')\n",
    "    lang_tokenizer.fit_on_texts(lang)\n",
    "    tensor = lang_tokenizer.texts_to_sequences(lang)\n",
    "    tensor = tf.keras.preprocessing.sequence.pad_sequences(tensor, padding='post')\n",
    "    return tensor, lang_tokenizer"
   ]
  },
  {
   "cell_type": "code",
   "execution_count": 11,
   "metadata": {
    "id": "MdTqPqs-01VP"
   },
   "outputs": [],
   "source": [
    "def load_dataset(path, num_examples=None):\n",
    "    targ_lang, inp_lang = create_dataset(path, num_examples)\n",
    "    input_tensor, inp_lang_tokenizer = tokenize(inp_lang)\n",
    "    target_tensor, targ_lang_tokenizer = tokenize(targ_lang)\n",
    "    return input_tensor, target_tensor, inp_lang_tokenizer, targ_lang_tokenizer"
   ]
  },
  {
   "cell_type": "code",
   "execution_count": 12,
   "metadata": {
    "colab": {
     "base_uri": "https://localhost:8080/"
    },
    "id": "SgDaPnrq01Xl",
    "outputId": "4966d0b5-157d-46c1-8e15-5c402d7e3a3e"
   },
   "outputs": [
    {
     "data": {
      "text/plain": [
       "(array([[   1, 5663,   24, ...,    0,    0,    0],\n",
       "        [   1,  198,    3, ...,    0,    0,    0],\n",
       "        [   1,  301,    3, ...,    0,    0,    0],\n",
       "        ...,\n",
       "        [   1,   33,  234, ...,    0,    0,    0],\n",
       "        [   1,   10,  298, ...,    0,    0,    0],\n",
       "        [   1,   27,   65, ...,    0,    0,    0]], dtype=int32),\n",
       " array([[ 1, 27,  3, ...,  0,  0,  0],\n",
       "        [ 1, 27,  3, ...,  0,  0,  0],\n",
       "        [ 1, 27,  3, ...,  0,  0,  0],\n",
       "        ...,\n",
       "        [ 1, 15,  7, ...,  0,  0,  0],\n",
       "        [ 1, 15,  7, ...,  0,  0,  0],\n",
       "        [ 1, 15,  7, ...,  0,  0,  0]], dtype=int32))"
      ]
     },
     "execution_count": 12,
     "metadata": {},
     "output_type": "execute_result"
    }
   ],
   "source": [
    "num_examples = 100000\n",
    "input_tensor, target_tensor, inp_lang, targ_lang = load_dataset(path_to_file, num_examples)\n",
    "\n",
    "input_tensor, target_tensor"
   ]
  },
  {
   "cell_type": "code",
   "execution_count": 13,
   "metadata": {
    "colab": {
     "base_uri": "https://localhost:8080/"
    },
    "id": "Bpy3I0r-01Z9",
    "outputId": "5dd4c155-8e01-4a69-f0a5-7f4c37bcefc7"
   },
   "outputs": [
    {
     "data": {
      "text/plain": [
       "(11, 15)"
      ]
     },
     "execution_count": 13,
     "metadata": {},
     "output_type": "execute_result"
    }
   ],
   "source": [
    "max_length_targ, max_length_inp = target_tensor.shape[1], input_tensor.shape[1]\n",
    "max_length_targ, max_length_inp"
   ]
  },
  {
   "cell_type": "code",
   "execution_count": 14,
   "metadata": {
    "colab": {
     "base_uri": "https://localhost:8080/"
    },
    "id": "a7yYFRcS01cW",
    "outputId": "31c2bef4-1e12-43ad-caac-e9950c18771e"
   },
   "outputs": [
    {
     "name": "stdout",
     "output_type": "stream",
     "text": [
      "80000 80000 20000 20000\n"
     ]
    }
   ],
   "source": [
    "input_tensor_train, input_tensor_val, target_tensor_train, target_tensor_val = train_test_split(input_tensor, target_tensor, test_size=0.2)\n",
    "\n",
    "print(len(input_tensor_train), len(target_tensor_train), len(input_tensor_val), len(target_tensor_val))"
   ]
  },
  {
   "cell_type": "code",
   "execution_count": 15,
   "metadata": {
    "colab": {
     "base_uri": "https://localhost:8080/"
    },
    "id": "s7m9aqJY01e9",
    "outputId": "f91b96a8-f492-4bd3-e9c8-5f180e610f54"
   },
   "outputs": [
    {
     "data": {
      "text/plain": [
       "(array([[   1,   14,   18, ...,    0,    0,    0],\n",
       "        [   1,   11, 3636, ...,    0,    0,    0],\n",
       "        [   1,   78,   12, ...,    0,    0,    0],\n",
       "        ...,\n",
       "        [   1,   17,    4, ...,    0,    0,    0],\n",
       "        [   1,    6, 1338, ...,    0,    0,    0],\n",
       "        [   1,    4, 6220, ...,    0,    0,    0]], dtype=int32),\n",
       " array([[  1,   5, 108, ...,   0,   0,   0],\n",
       "        [  1,  28,   9, ...,   0,   0,   0],\n",
       "        [  1,  25,   4, ...,   0,   0,   0],\n",
       "        ...,\n",
       "        [  1,  35,  25, ...,   0,   0,   0],\n",
       "        [  1, 120,   5, ...,   0,   0,   0],\n",
       "        [  1,  13,   9, ...,   0,   0,   0]], dtype=int32))"
      ]
     },
     "execution_count": 15,
     "metadata": {},
     "output_type": "execute_result"
    }
   ],
   "source": [
    "input_tensor_train, target_tensor_train"
   ]
  },
  {
   "cell_type": "code",
   "execution_count": 16,
   "metadata": {
    "id": "bP9dPItr01hW"
   },
   "outputs": [],
   "source": [
    "def convert(lang, tensor):\n",
    "    for t in tensor:\n",
    "        if t!=0:\n",
    "            print (\"%d ----> %s\" % (t, lang.index_word[t]))"
   ]
  },
  {
   "cell_type": "code",
   "execution_count": 17,
   "metadata": {
    "colab": {
     "base_uri": "https://localhost:8080/"
    },
    "id": "hV7QYK6K01j1",
    "outputId": "bfa16c9a-8eee-446b-d17f-102526e94f19"
   },
   "outputs": [
    {
     "name": "stdout",
     "output_type": "stream",
     "text": [
      "Input Language; index to word mapping\n",
      "1 ----> <start>\n",
      "14 ----> у\n",
      "18 ----> тома\n",
      "21 ----> был\n",
      "2848 ----> удар\n",
      "3 ----> .\n",
      "2 ----> <end>\n",
      "\n",
      "Target Language; index to word mapping\n",
      "1 ----> <start>\n",
      "5 ----> tom\n",
      "108 ----> had\n",
      "9 ----> a\n",
      "1995 ----> stroke\n",
      "3 ----> .\n",
      "2 ----> <end>\n"
     ]
    }
   ],
   "source": [
    "print (\"Input Language; index to word mapping\")\n",
    "convert(inp_lang, input_tensor_train[0])\n",
    "print ()\n",
    "print (\"Target Language; index to word mapping\")\n",
    "convert(targ_lang, target_tensor_train[0])"
   ]
  },
  {
   "cell_type": "code",
   "execution_count": 18,
   "metadata": {
    "id": "KZapDrwo01mW"
   },
   "outputs": [],
   "source": [
    "BUFFER_SIZE = len(input_tensor_train)\n",
    "BATCH_SIZE = 64\n",
    "\n",
    "steps_per_epoch = len(input_tensor_train)//BATCH_SIZE\n",
    "embedding_dim = 300\n",
    "units = 1024\n",
    "vocab_inp_size = len(inp_lang.word_index)+1\n",
    "vocab_tar_size = len(targ_lang.word_index)+1\n",
    "\n",
    "dataset = tf.data.Dataset.from_tensor_slices((input_tensor_train, target_tensor_train)).shuffle(BUFFER_SIZE)\n",
    "\n",
    "dataset = dataset.batch(BATCH_SIZE, drop_remainder=True)"
   ]
  },
  {
   "cell_type": "code",
   "execution_count": 19,
   "metadata": {
    "colab": {
     "base_uri": "https://localhost:8080/"
    },
    "id": "ZCH8snrc01pF",
    "outputId": "60835dd3-970a-4e88-93fe-67ee06dfd59e"
   },
   "outputs": [
    {
     "name": "stdout",
     "output_type": "stream",
     "text": [
      "(64, 15) (64, 11)\n"
     ]
    },
    {
     "data": {
      "text/plain": [
       "(<tf.Tensor: shape=(15,), dtype=int32, numpy=\n",
       " array([   1,  314,  161,  216, 1335,    3,    2,    0,    0,    0,    0,\n",
       "           0,    0,    0,    0], dtype=int32)>,\n",
       " <tf.Tensor: shape=(11,), dtype=int32, numpy=array([  1, 155, 139,   8, 555,   3,   2,   0,   0,   0,   0], dtype=int32)>)"
      ]
     },
     "execution_count": 19,
     "metadata": {},
     "output_type": "execute_result"
    }
   ],
   "source": [
    "example_input_batch, example_target_batch = next(iter(dataset))\n",
    "print(example_input_batch.shape, example_target_batch.shape)\n",
    "example_input_batch[0], example_target_batch[0]"
   ]
  },
  {
   "cell_type": "code",
   "execution_count": 20,
   "metadata": {
    "id": "IAYCZicw01rm"
   },
   "outputs": [],
   "source": [
    "class Encoder(tf.keras.Model):\n",
    "    def __init__(self, vocab_size, embedding_dim, enc_units, batch_sz):\n",
    "        super(Encoder, self).__init__()\n",
    "        self.batch_sz = batch_sz\n",
    "        self.enc_units = enc_units\n",
    "        self.embedding = tf.keras.layers.Embedding(vocab_size, embedding_dim)\n",
    "        self.gru = tf.keras.layers.GRU(self.enc_units,\n",
    "                                       return_sequences=False,\n",
    "                                       return_state=True,\n",
    "                                       recurrent_initializer='glorot_uniform')\n",
    "    def call(self, x, hidden):\n",
    "        x = self.embedding(x)\n",
    "        output, state = self.gru(x, initial_state = hidden)\n",
    "        return state\n",
    "\n",
    "    def initialize_hidden_state(self):\n",
    "        return tf.zeros((self.batch_sz, self.enc_units))"
   ]
  },
  {
   "cell_type": "code",
   "execution_count": 21,
   "metadata": {
    "colab": {
     "base_uri": "https://localhost:8080/"
    },
    "id": "2sbSRbQr01t_",
    "outputId": "48cf73b2-27e0-45c2-9886-fd43232188b2"
   },
   "outputs": [
    {
     "name": "stdout",
     "output_type": "stream",
     "text": [
      "Encoder Hidden state shape: (batch size, units) (64, 1024)\n"
     ]
    }
   ],
   "source": [
    "encoder = Encoder(vocab_inp_size, embedding_dim, units, BATCH_SIZE)\n",
    "\n",
    "sample_hidden = encoder.initialize_hidden_state()\n",
    "sample_hidden = encoder(example_input_batch, sample_hidden)\n",
    "\n",
    "print ('Encoder Hidden state shape: (batch size, units) {}'.format(sample_hidden.shape))"
   ]
  },
  {
   "cell_type": "code",
   "execution_count": 22,
   "metadata": {
    "colab": {
     "base_uri": "https://localhost:8080/"
    },
    "id": "qB1PNI-a01wl",
    "outputId": "5350a344-1067-4d81-fb33-9f808de229d5"
   },
   "outputs": [
    {
     "data": {
      "text/plain": [
       "<tf.Tensor: shape=(64, 1024), dtype=float32, numpy=\n",
       "array([[-1.76685080e-02, -4.21906495e-03,  2.28311890e-03, ...,\n",
       "         1.28185190e-02, -1.64254423e-04, -1.02083583e-03],\n",
       "       [-1.74849574e-02, -3.92808067e-03,  1.96581404e-03, ...,\n",
       "         1.27023514e-02, -1.14306549e-05, -7.67540070e-04],\n",
       "       [-1.79345440e-02, -4.62359097e-03,  2.10245210e-03, ...,\n",
       "         1.29586998e-02, -4.40688775e-04, -8.99261038e-04],\n",
       "       ...,\n",
       "       [-1.75858643e-02, -4.01126221e-03,  2.00717920e-03, ...,\n",
       "         1.27704665e-02, -3.11428121e-05, -9.17918514e-04],\n",
       "       [-1.75943337e-02, -4.26021731e-03,  2.17317510e-03, ...,\n",
       "         1.28746964e-02, -1.29936539e-04, -8.69398471e-04],\n",
       "       [-1.76094137e-02, -4.16721497e-03,  2.02345639e-03, ...,\n",
       "         1.27225416e-02, -6.12808217e-05, -7.63767050e-04]], dtype=float32)>"
      ]
     },
     "execution_count": 22,
     "metadata": {},
     "output_type": "execute_result"
    }
   ],
   "source": [
    "sample_hidden"
   ]
  },
  {
   "cell_type": "code",
   "execution_count": 23,
   "metadata": {
    "id": "JM99UODR01zN"
   },
   "outputs": [],
   "source": [
    "class Decoder(tf.keras.Model):\n",
    "    def __init__(self, vocab_size, embedding_dim, dec_units, batch_sz):\n",
    "        super(Decoder, self).__init__()\n",
    "        self.batch_sz = batch_sz\n",
    "        self.dec_units = dec_units\n",
    "        self.embedding = tf.keras.layers.Embedding(vocab_size, embedding_dim)\n",
    "        self.gru = tf.keras.layers.GRU(self.dec_units,\n",
    "                                       return_sequences=True,\n",
    "                                       return_state=True,\n",
    "                                       recurrent_initializer='glorot_uniform')\n",
    "        self.fc = tf.keras.layers.Dense(vocab_size)\n",
    "\n",
    "    def call(self, x, hidden):\n",
    "        x = self.embedding(x)\n",
    "\n",
    "        output, state = self.gru(x, initial_state=hidden)\n",
    "\n",
    "        output = tf.reshape(output, (-1, output.shape[2]))\n",
    "\n",
    "        x = self.fc(output)\n",
    "\n",
    "        return x, state"
   ]
  },
  {
   "cell_type": "code",
   "execution_count": 24,
   "metadata": {
    "colab": {
     "base_uri": "https://localhost:8080/"
    },
    "id": "qDDCYMfc011t",
    "outputId": "bb0a22e6-8144-4bb3-ffb3-aab2322f7b22"
   },
   "outputs": [
    {
     "data": {
      "text/plain": [
       "(TensorShape([64, 7335]), TensorShape([64, 1024]))"
      ]
     },
     "execution_count": 24,
     "metadata": {},
     "output_type": "execute_result"
    }
   ],
   "source": [
    "decoder = Decoder(vocab_tar_size, embedding_dim, units, BATCH_SIZE)\n",
    "\n",
    "decoder_sample_x, decoder_sample_h = decoder(tf.random.uniform((BATCH_SIZE, 1)), sample_hidden)\n",
    "\n",
    "decoder_sample_x.shape, decoder_sample_h.shape"
   ]
  },
  {
   "cell_type": "code",
   "execution_count": 25,
   "metadata": {
    "colab": {
     "base_uri": "https://localhost:8080/"
    },
    "id": "9mXWiYpT016f",
    "outputId": "2e9785da-0971-410a-bf44-352c4f4c1b13"
   },
   "outputs": [
    {
     "data": {
      "text/plain": [
       "(TensorShape([64, 7335]), TensorShape([64, 1024]))"
      ]
     },
     "execution_count": 25,
     "metadata": {},
     "output_type": "execute_result"
    }
   ],
   "source": [
    "decoder_sample_x.shape, decoder_sample_h.shape"
   ]
  },
  {
   "cell_type": "code",
   "execution_count": 26,
   "metadata": {
    "id": "M9wNF4rh0182"
   },
   "outputs": [],
   "source": [
    "optimizer = tf.keras.optimizers.Adam()\n",
    "\n",
    "loss_object = tf.keras.losses.SparseCategoricalCrossentropy(\n",
    "    from_logits=True, reduction='none')\n",
    "\n",
    "def loss_function(real, pred):\n",
    "    mask = tf.math.logical_not(tf.math.equal(real, 0))\n",
    "\n",
    "    loss_ = loss_object(real, pred)\n",
    "\n",
    "    mask = tf.cast(mask, dtype=loss_.dtype)\n",
    "\n",
    "    loss_ *= mask\n",
    "\n",
    "    return tf.reduce_mean(loss_)"
   ]
  },
  {
   "cell_type": "code",
   "execution_count": 27,
   "metadata": {
    "id": "YiDyoZA-01_d"
   },
   "outputs": [],
   "source": [
    "checkpoint_dir = './training_nmt_checkpoints'\n",
    "\n",
    "checkpoint_prefix = os.path.join(checkpoint_dir, \"ckpt\")\n",
    "\n",
    "checkpoint = tf.train.Checkpoint(optimizer=optimizer,\n",
    "                                 encoder=encoder,\n",
    "                                 decoder=decoder)"
   ]
  },
  {
   "cell_type": "code",
   "execution_count": 28,
   "metadata": {
    "id": "1hNoFwXN02CG"
   },
   "outputs": [],
   "source": [
    "@tf.function\n",
    "def train_step(inp, targ, enc_hidden):\n",
    "  loss = 0\n",
    "\n",
    "  with tf.GradientTape() as tape:\n",
    "    enc_hidden = encoder(inp, enc_hidden)\n",
    "\n",
    "    dec_hidden = enc_hidden\n",
    "\n",
    "    dec_input = tf.expand_dims([targ_lang.word_index['<start>']] * BATCH_SIZE, 1)\n",
    "\n",
    "    for t in range(1, targ.shape[1]):\n",
    "\n",
    "      predictions, dec_hidden = decoder(dec_input, dec_hidden)\n",
    "\n",
    "      loss += loss_function(targ[:, t], predictions)\n",
    "\n",
    "\n",
    "      dec_input = tf.expand_dims(targ[:, t], 1)\n",
    "\n",
    "  batch_loss = (loss / int(targ.shape[1]))\n",
    "\n",
    "  variables = encoder.trainable_variables + decoder.trainable_variables\n",
    "\n",
    "  gradients = tape.gradient(loss, variables)\n",
    "\n",
    "  optimizer.apply_gradients(zip(gradients, variables))\n",
    "\n",
    "  return batch_loss"
   ]
  },
  {
   "cell_type": "code",
   "execution_count": 29,
   "metadata": {
    "colab": {
     "base_uri": "https://localhost:8080/"
    },
    "id": "PfV-pigP14mg",
    "outputId": "20a5ee39-e390-476b-8858-02046842d8b8"
   },
   "outputs": [
    {
     "name": "stdout",
     "output_type": "stream",
     "text": [
      "Epoch 1 Batch 0 Loss 4.6145\n",
      "Epoch 1 Batch 100 Loss 2.0531\n",
      "Epoch 1 Batch 200 Loss 1.7500\n",
      "Epoch 1 Batch 300 Loss 1.6401\n",
      "Epoch 1 Batch 400 Loss 1.7177\n",
      "Epoch 1 Batch 500 Loss 1.4794\n",
      "Epoch 1 Batch 600 Loss 1.3657\n",
      "Epoch 1 Batch 700 Loss 1.3035\n",
      "Epoch 1 Batch 800 Loss 1.4354\n",
      "Epoch 1 Batch 900 Loss 1.2364\n",
      "Epoch 1 Batch 1000 Loss 1.2454\n",
      "Epoch 1 Batch 1100 Loss 1.2051\n",
      "Epoch 1 Batch 1200 Loss 1.0495\n",
      "Epoch 1 Loss 1.5144\n",
      "Time taken for 1 epoch 69.88138246536255 sec\n",
      "\n",
      "Epoch 2 Batch 0 Loss 1.0913\n",
      "Epoch 2 Batch 100 Loss 1.0564\n",
      "Epoch 2 Batch 200 Loss 1.1250\n",
      "Epoch 2 Batch 300 Loss 0.9679\n",
      "Epoch 2 Batch 400 Loss 0.9510\n",
      "Epoch 2 Batch 500 Loss 0.9737\n",
      "Epoch 2 Batch 600 Loss 0.8846\n",
      "Epoch 2 Batch 700 Loss 0.9310\n",
      "Epoch 2 Batch 800 Loss 0.8496\n",
      "Epoch 2 Batch 900 Loss 0.8623\n",
      "Epoch 2 Batch 1000 Loss 0.8530\n",
      "Epoch 2 Batch 1100 Loss 0.8779\n",
      "Epoch 2 Batch 1200 Loss 0.8690\n",
      "Epoch 2 Loss 0.9241\n",
      "Time taken for 1 epoch 59.463441610336304 sec\n",
      "\n",
      "Epoch 3 Batch 0 Loss 0.6853\n",
      "Epoch 3 Batch 100 Loss 0.6917\n",
      "Epoch 3 Batch 200 Loss 0.6026\n",
      "Epoch 3 Batch 300 Loss 0.6670\n",
      "Epoch 3 Batch 400 Loss 0.6652\n",
      "Epoch 3 Batch 500 Loss 0.6109\n",
      "Epoch 3 Batch 600 Loss 0.7005\n",
      "Epoch 3 Batch 700 Loss 0.5692\n",
      "Epoch 3 Batch 800 Loss 0.5930\n",
      "Epoch 3 Batch 900 Loss 0.5984\n",
      "Epoch 3 Batch 1000 Loss 0.5618\n",
      "Epoch 3 Batch 1100 Loss 0.6347\n",
      "Epoch 3 Batch 1200 Loss 0.5829\n",
      "Epoch 3 Loss 0.6289\n",
      "Time taken for 1 epoch 59.025492429733276 sec\n",
      "\n",
      "Epoch 4 Batch 0 Loss 0.4299\n",
      "Epoch 4 Batch 100 Loss 0.4207\n",
      "Epoch 4 Batch 200 Loss 0.4130\n",
      "Epoch 4 Batch 300 Loss 0.4076\n",
      "Epoch 4 Batch 400 Loss 0.4019\n",
      "Epoch 4 Batch 500 Loss 0.4047\n",
      "Epoch 4 Batch 600 Loss 0.4443\n",
      "Epoch 4 Batch 700 Loss 0.4943\n",
      "Epoch 4 Batch 800 Loss 0.4300\n",
      "Epoch 4 Batch 900 Loss 0.4592\n",
      "Epoch 4 Batch 1000 Loss 0.4496\n",
      "Epoch 4 Batch 1100 Loss 0.4097\n",
      "Epoch 4 Batch 1200 Loss 0.4102\n",
      "Epoch 4 Loss 0.4294\n",
      "Time taken for 1 epoch 59.56116199493408 sec\n",
      "\n",
      "Epoch 5 Batch 0 Loss 0.2554\n",
      "Epoch 5 Batch 100 Loss 0.3448\n",
      "Epoch 5 Batch 200 Loss 0.2928\n",
      "Epoch 5 Batch 300 Loss 0.2616\n",
      "Epoch 5 Batch 400 Loss 0.2575\n",
      "Epoch 5 Batch 500 Loss 0.2428\n",
      "Epoch 5 Batch 600 Loss 0.2809\n",
      "Epoch 5 Batch 700 Loss 0.2647\n",
      "Epoch 5 Batch 800 Loss 0.3122\n",
      "Epoch 5 Batch 900 Loss 0.3296\n",
      "Epoch 5 Batch 1000 Loss 0.2875\n",
      "Epoch 5 Batch 1100 Loss 0.3457\n",
      "Epoch 5 Batch 1200 Loss 0.3003\n",
      "Epoch 5 Loss 0.2969\n",
      "Time taken for 1 epoch 59.00380539894104 sec\n",
      "\n",
      "Epoch 6 Batch 0 Loss 0.2164\n",
      "Epoch 6 Batch 100 Loss 0.2221\n",
      "Epoch 6 Batch 200 Loss 0.1637\n",
      "Epoch 6 Batch 300 Loss 0.2273\n",
      "Epoch 6 Batch 400 Loss 0.1951\n",
      "Epoch 6 Batch 500 Loss 0.1836\n",
      "Epoch 6 Batch 600 Loss 0.2122\n",
      "Epoch 6 Batch 700 Loss 0.2191\n",
      "Epoch 6 Batch 800 Loss 0.2283\n",
      "Epoch 6 Batch 900 Loss 0.2549\n",
      "Epoch 6 Batch 1000 Loss 0.2098\n",
      "Epoch 6 Batch 1100 Loss 0.2005\n",
      "Epoch 6 Batch 1200 Loss 0.2133\n",
      "Epoch 6 Loss 0.2116\n",
      "Time taken for 1 epoch 59.678173542022705 sec\n",
      "\n",
      "Epoch 7 Batch 0 Loss 0.1872\n",
      "Epoch 7 Batch 100 Loss 0.1686\n",
      "Epoch 7 Batch 200 Loss 0.1590\n",
      "Epoch 7 Batch 300 Loss 0.1289\n",
      "Epoch 7 Batch 400 Loss 0.1600\n",
      "Epoch 7 Batch 500 Loss 0.1602\n",
      "Epoch 7 Batch 600 Loss 0.2336\n",
      "Epoch 7 Batch 700 Loss 0.1368\n",
      "Epoch 7 Batch 800 Loss 0.1575\n",
      "Epoch 7 Batch 900 Loss 0.1819\n",
      "Epoch 7 Batch 1000 Loss 0.2288\n",
      "Epoch 7 Batch 1100 Loss 0.1662\n",
      "Epoch 7 Batch 1200 Loss 0.1484\n",
      "Epoch 7 Loss 0.1599\n",
      "Time taken for 1 epoch 58.96326541900635 sec\n",
      "\n",
      "Epoch 8 Batch 0 Loss 0.1162\n",
      "Epoch 8 Batch 100 Loss 0.1051\n",
      "Epoch 8 Batch 200 Loss 0.1042\n",
      "Epoch 8 Batch 300 Loss 0.1187\n",
      "Epoch 8 Batch 400 Loss 0.1291\n",
      "Epoch 8 Batch 500 Loss 0.1453\n",
      "Epoch 8 Batch 600 Loss 0.1133\n",
      "Epoch 8 Batch 700 Loss 0.1340\n",
      "Epoch 8 Batch 800 Loss 0.1120\n",
      "Epoch 8 Batch 900 Loss 0.2019\n",
      "Epoch 8 Batch 1000 Loss 0.1468\n",
      "Epoch 8 Batch 1100 Loss 0.0925\n",
      "Epoch 8 Batch 1200 Loss 0.1947\n",
      "Epoch 8 Loss 0.1292\n",
      "Time taken for 1 epoch 59.639227628707886 sec\n",
      "\n",
      "Epoch 9 Batch 0 Loss 0.0916\n",
      "Epoch 9 Batch 100 Loss 0.0530\n",
      "Epoch 9 Batch 200 Loss 0.0919\n",
      "Epoch 9 Batch 300 Loss 0.0825\n",
      "Epoch 9 Batch 400 Loss 0.1024\n",
      "Epoch 9 Batch 500 Loss 0.1265\n",
      "Epoch 9 Batch 600 Loss 0.1172\n",
      "Epoch 9 Batch 700 Loss 0.1063\n",
      "Epoch 9 Batch 800 Loss 0.1295\n",
      "Epoch 9 Batch 900 Loss 0.1145\n",
      "Epoch 9 Batch 1000 Loss 0.1736\n",
      "Epoch 9 Batch 1100 Loss 0.1314\n",
      "Epoch 9 Batch 1200 Loss 0.1496\n",
      "Epoch 9 Loss 0.1093\n",
      "Time taken for 1 epoch 58.97813606262207 sec\n",
      "\n",
      "Epoch 10 Batch 0 Loss 0.0663\n",
      "Epoch 10 Batch 100 Loss 0.0933\n",
      "Epoch 10 Batch 200 Loss 0.0890\n",
      "Epoch 10 Batch 300 Loss 0.1059\n",
      "Epoch 10 Batch 400 Loss 0.1021\n",
      "Epoch 10 Batch 500 Loss 0.1241\n",
      "Epoch 10 Batch 600 Loss 0.0739\n",
      "Epoch 10 Batch 700 Loss 0.0941\n",
      "Epoch 10 Batch 800 Loss 0.1205\n",
      "Epoch 10 Batch 900 Loss 0.0675\n",
      "Epoch 10 Batch 1000 Loss 0.1105\n",
      "Epoch 10 Batch 1100 Loss 0.1406\n",
      "Epoch 10 Batch 1200 Loss 0.1233\n",
      "Epoch 10 Loss 0.0973\n",
      "Time taken for 1 epoch 59.650301694869995 sec\n",
      "\n"
     ]
    }
   ],
   "source": [
    "EPOCHS = 10\n",
    "\n",
    "for epoch in range(EPOCHS):\n",
    "  start = time.time()\n",
    "\n",
    "  enc_hidden = encoder.initialize_hidden_state()\n",
    "  total_loss = 0\n",
    "\n",
    "  for (batch, (inp, targ)) in enumerate(dataset.take(steps_per_epoch)):\n",
    "    batch_loss = train_step(inp, targ, enc_hidden)\n",
    "    total_loss += batch_loss\n",
    "\n",
    "    if batch % 100 == 0:\n",
    "      print('Epoch {} Batch {} Loss {:.4f}'.format(epoch + 1,\n",
    "                                                   batch,\n",
    "                                                   batch_loss.numpy()))\n",
    "  # saving (checkpoint) the model every 2 epochs\n",
    "  if (epoch + 1) % 2 == 0:\n",
    "    checkpoint.save(file_prefix = checkpoint_prefix)\n",
    "\n",
    "  print('Epoch {} Loss {:.4f}'.format(epoch + 1,\n",
    "                                      total_loss / steps_per_epoch))\n",
    "  print('Time taken for 1 epoch {} sec\\n'.format(time.time() - start))"
   ]
  },
  {
   "cell_type": "code",
   "execution_count": 30,
   "metadata": {
    "id": "RDJicShJ14pH"
   },
   "outputs": [],
   "source": [
    "def evaluate(sentence):\n",
    "    #препоцессим предложение\n",
    "    sentence = preprocess_sentence(sentence)\n",
    "    #разбиваем предложение по пробелам и составляем список индексов каждого слова\n",
    "    inputs = [inp_lang.word_index[i] for i in sentence.split(' ')]\n",
    "    #заполняем inputs нулями справа до максимальной длины входного текста\n",
    "    inputs = tf.keras.preprocessing.sequence.pad_sequences([inputs],\n",
    "                                                             maxlen=max_length_inp,\n",
    "                                                             padding='post')\n",
    "    #преобразуем inputs в тензор\n",
    "    inputs = tf.convert_to_tensor(inputs)\n",
    "\n",
    "    result = ''\n",
    "    #инициализируем входной hidden из нулей размера (1, units)\n",
    "    hidden = [tf.zeros((1, units))]\n",
    "    #подаем inputs и hidden в encoder\n",
    "    enc_hidden = encoder(inputs, hidden)\n",
    "\n",
    "    #инициализируем входной hidden декодера -- выходной hidden энкодера\n",
    "    dec_hidden = enc_hidden\n",
    "    #вход декодера -- список [индекс start] размера(1,1)\n",
    "    dec_input = tf.expand_dims([targ_lang.word_index['<start>']], 0)\n",
    "\n",
    "    for t in range(max_length_targ):\n",
    "        #получаем выход декодера\n",
    "        predictions, dec_hidden = decoder(dec_input, dec_hidden)\n",
    "\n",
    "        predicted_id = tf.argmax(predictions[0]).numpy()\n",
    "        result += targ_lang.index_word[predicted_id] + ' '\n",
    "\n",
    "        #заканчиваем на токене end\n",
    "        if targ_lang.index_word[predicted_id] == '<end>':\n",
    "            return result, sentence\n",
    "\n",
    "        #предсказанный predicted ID подаем обратно в декодер (размер (1,1))\n",
    "        dec_input = tf.expand_dims([predicted_id], 0)\n",
    "\n",
    "    return result, sentence"
   ]
  },
  {
   "cell_type": "code",
   "execution_count": 31,
   "metadata": {
    "id": "xzMsJ-C-14rm"
   },
   "outputs": [],
   "source": [
    "def translate(sentence):\n",
    "    result, sentence = evaluate(sentence)\n",
    "    print('Input: %s' % (sentence))\n",
    "    print('Predicted translation: {}'.format(result))"
   ]
  },
  {
   "cell_type": "code",
   "execution_count": 32,
   "metadata": {
    "colab": {
     "base_uri": "https://localhost:8080/"
    },
    "id": "XzgBhkZ314t-",
    "outputId": "a41d0183-359c-4a29-ca5a-f5d97c4a83da"
   },
   "outputs": [
    {
     "data": {
      "text/plain": [
       "<tensorflow.python.training.tracking.util.CheckpointLoadStatus at 0x7f2cf998a690>"
      ]
     },
     "execution_count": 32,
     "metadata": {},
     "output_type": "execute_result"
    }
   ],
   "source": [
    "checkpoint.restore(tf.train.latest_checkpoint(checkpoint_dir))"
   ]
  },
  {
   "cell_type": "code",
   "execution_count": 33,
   "metadata": {
    "colab": {
     "base_uri": "https://localhost:8080/"
    },
    "id": "COytWkqS14v2",
    "outputId": "ce419b29-80ed-46ee-b7b8-28ce5e212a8c"
   },
   "outputs": [
    {
     "name": "stdout",
     "output_type": "stream",
     "text": [
      "Input: <start> сегодня идет дождь . <end>\n",
      "Predicted translation: it's raining today . <end> \n"
     ]
    }
   ],
   "source": [
    "translate('Сегодня идет дождь.')"
   ]
  },
  {
   "cell_type": "code",
   "execution_count": 34,
   "metadata": {
    "colab": {
     "base_uri": "https://localhost:8080/"
    },
    "id": "pnPIF-Ba14yP",
    "outputId": "f26caf26-0123-4e7d-b365-cef9c9025d80"
   },
   "outputs": [
    {
     "name": "stdout",
     "output_type": "stream",
     "text": [
      "Input: <start> завтра мы поедем на пляж и будем там плавать . <end>\n",
      "Predicted translation: we'll go visit them . <end> \n"
     ]
    }
   ],
   "source": [
    "translate('Завтра мы поедем на пляж и будем там плавать.')"
   ]
  },
  {
   "cell_type": "code",
   "execution_count": 35,
   "metadata": {
    "colab": {
     "base_uri": "https://localhost:8080/"
    },
    "id": "WtEcwRdF140W",
    "outputId": "74fdcce1-ffaf-40c9-e44e-6935b77e4f59"
   },
   "outputs": [
    {
     "name": "stdout",
     "output_type": "stream",
     "text": [
      "Input: <start> мы смотрим телевизор . <end>\n",
      "Predicted translation: we're watching tv . <end> \n"
     ]
    }
   ],
   "source": [
    "translate('Мы смотрим телевизор.')"
   ]
  },
  {
   "cell_type": "code",
   "execution_count": 36,
   "metadata": {
    "colab": {
     "base_uri": "https://localhost:8080/"
    },
    "id": "wHz022cY142v",
    "outputId": "08d9c066-48d8-4298-a6db-e85a3ee0208b"
   },
   "outputs": [
    {
     "name": "stdout",
     "output_type": "stream",
     "text": [
      "Input: <start> я сейчас работаю . <end>\n",
      "Predicted translation: i'm now in love . <end> \n"
     ]
    }
   ],
   "source": [
    "translate('Я сейчас работаю.')"
   ]
  },
  {
   "cell_type": "code",
   "execution_count": 37,
   "metadata": {
    "colab": {
     "base_uri": "https://localhost:8080/"
    },
    "id": "zEhqTlis145F",
    "outputId": "e693d36c-fd45-4945-c693-303f63142211"
   },
   "outputs": [
    {
     "name": "stdout",
     "output_type": "stream",
     "text": [
      "Input: <start> мы любим ходить гулять , если на улице хорошая погода . <end>\n",
      "Predicted translation: we love asian food . <end> \n"
     ]
    }
   ],
   "source": [
    "translate('Мы любим ходить гулять, если на улице хорошая погода.')"
   ]
  },
  {
   "cell_type": "code",
   "execution_count": 38,
   "metadata": {
    "id": "OfdlW4xY8CRG"
   },
   "outputs": [],
   "source": [
    "class Encoder(tf.keras.Model):\n",
    "    def __init__(self, vocab_size, embedding_dim, enc_units, batch_sz):\n",
    "        super(Encoder, self).__init__()\n",
    "        self.batch_sz = batch_sz\n",
    "        self.enc_units = enc_units\n",
    "        self.embedding = tf.keras.layers.Embedding(vocab_size, embedding_dim)\n",
    "        self.gru = tf.keras.layers.GRU(self.enc_units,\n",
    "                                       return_sequences=True,\n",
    "                                       return_state=True,\n",
    "                                       recurrent_initializer='glorot_uniform')\n",
    "\n",
    "    def call(self, x, hidden):\n",
    "        x = self.embedding(x)\n",
    "        output, state = self.gru(x, initial_state = hidden)\n",
    "        return output, state\n",
    "\n",
    "    def initialize_hidden_state(self):\n",
    "        return tf.zeros((self.batch_sz, self.enc_units))"
   ]
  },
  {
   "cell_type": "code",
   "execution_count": 39,
   "metadata": {
    "colab": {
     "base_uri": "https://localhost:8080/"
    },
    "id": "qLtwgbIA8CTt",
    "outputId": "0f22ecf4-53b2-4563-d399-7b2dd31c1d47"
   },
   "outputs": [
    {
     "name": "stdout",
     "output_type": "stream",
     "text": [
      "Encoder output shape: (batch size, sequence length, units) (64, 15, 1024)\n",
      "Encoder Hidden state shape: (batch size, units) (64, 1024)\n"
     ]
    }
   ],
   "source": [
    "encoder = Encoder(vocab_inp_size, embedding_dim, units, BATCH_SIZE)\n",
    "\n",
    "#инициализируем начальное скрытое состояние из нулей\n",
    "sample_hidden = encoder.initialize_hidden_state()\n",
    "\n",
    "#получаем выход энкодера и последнее скрытое состояние\n",
    "sample_output, sample_hidden = encoder(example_input_batch, sample_hidden)\n",
    "print ('Encoder output shape: (batch size, sequence length, units) {}'.format(sample_output.shape))\n",
    "print ('Encoder Hidden state shape: (batch size, units) {}'.format(sample_hidden.shape))"
   ]
  },
  {
   "cell_type": "code",
   "execution_count": 40,
   "metadata": {
    "id": "niwurGxD8CWX"
   },
   "outputs": [],
   "source": [
    "class BahdanauAttention(tf.keras.layers.Layer):\n",
    "    def __init__(self, units):\n",
    "        super(BahdanauAttention, self).__init__()\n",
    "        self.W1 = tf.keras.layers.Dense(units)\n",
    "        self.W2 = tf.keras.layers.Dense(units)\n",
    "        self.V = tf.keras.layers.Dense(1)\n",
    "\n",
    "    def call(self, query, values):\n",
    "\n",
    "\n",
    "        query_with_time_axis = tf.expand_dims(query, 1)\n",
    "\n",
    "\n",
    "        score = self.V(tf.nn.tanh(\n",
    "            self.W1(query_with_time_axis) + self.W2(values)))\n",
    "\n",
    "        attention_weights = tf.nn.softmax(score, axis=1)\n",
    "\n",
    "        context_vector = attention_weights * values\n",
    "\n",
    "        context_vector = tf.reduce_sum(context_vector, axis=1)\n",
    "\n",
    "        return context_vector, attention_weights"
   ]
  },
  {
   "cell_type": "code",
   "execution_count": 41,
   "metadata": {
    "colab": {
     "base_uri": "https://localhost:8080/"
    },
    "id": "1oflVUNi8CY2",
    "outputId": "5cddd955-cb46-4f1b-914c-5873b383d04c"
   },
   "outputs": [
    {
     "name": "stdout",
     "output_type": "stream",
     "text": [
      "Attention result shape: (batch size, units) (64, 1024)\n",
      "Attention weights shape: (batch_size, sequence_length, 1) (64, 15, 1)\n"
     ]
    }
   ],
   "source": [
    "\n",
    "attention_layer = BahdanauAttention(10)\n",
    "\n",
    "attention_result, attention_weights = attention_layer(sample_hidden, sample_output)\n",
    "\n",
    "print(\"Attention result shape: (batch size, units) {}\".format(attention_result.shape))\n",
    "print(\"Attention weights shape: (batch_size, sequence_length, 1) {}\".format(attention_weights.shape))"
   ]
  },
  {
   "cell_type": "code",
   "execution_count": 42,
   "metadata": {
    "id": "IiaQKKnO8Cbe"
   },
   "outputs": [],
   "source": [
    "class Decoder(tf.keras.Model):\n",
    "    def __init__(self, vocab_size, embedding_dim, dec_units, batch_sz):\n",
    "        super(Decoder, self).__init__()\n",
    "        self.batch_sz = batch_sz\n",
    "        self.dec_units = dec_units\n",
    "        self.embedding = tf.keras.layers.Embedding(vocab_size, embedding_dim)\n",
    "        self.gru = tf.keras.layers.GRU(self.dec_units,\n",
    "                                       return_sequences=True,\n",
    "                                       return_state=True,\n",
    "                                       recurrent_initializer='glorot_uniform')\n",
    "        self.fc = tf.keras.layers.Dense(vocab_size)\n",
    "\n",
    "        self.attention = BahdanauAttention(self.dec_units)\n",
    "\n",
    "    def call(self, x, hidden, enc_output):\n",
    "\n",
    "        context_vector, attention_weights = self.attention(hidden, enc_output)\n",
    "\n",
    "\n",
    "        x = self.embedding(x)\n",
    "\n",
    "\n",
    "        x = tf.concat([tf.expand_dims(context_vector, 1), x], axis=-1)\n",
    "\n",
    "        output, state = self.gru(x)\n",
    "\n",
    "        output = tf.reshape(output, (-1, output.shape[2]))\n",
    "\n",
    "\n",
    "        x = self.fc(output)\n",
    "\n",
    "        return x, state, attention_weights"
   ]
  },
  {
   "cell_type": "code",
   "execution_count": 46,
   "metadata": {
    "colab": {
     "base_uri": "https://localhost:8080/"
    },
    "id": "PS6qkudPJTeX",
    "outputId": "5751873a-bd10-4c37-d291-c95802bd9c03"
   },
   "outputs": [
    {
     "name": "stdout",
     "output_type": "stream",
     "text": [
      "Decoder output shape: (batch_size, vocab size) (64, 7335)\n"
     ]
    }
   ],
   "source": [
    "decoder = Decoder(vocab_tar_size, embedding_dim, units, BATCH_SIZE)\n",
    "\n",
    "sample_decoder_output, _, _ = decoder(tf.random.uniform((BATCH_SIZE, 1)),\n",
    "                                      sample_hidden, sample_output)\n",
    "\n",
    "print ('Decoder output shape: (batch_size, vocab size) {}'.format(sample_decoder_output.shape))"
   ]
  },
  {
   "cell_type": "code",
   "execution_count": 47,
   "metadata": {
    "id": "5ZpIfGo68Cdu"
   },
   "outputs": [],
   "source": [
    "checkpoint_dir = './training_attention_checkpoints'\n",
    "checkpoint_prefix = os.path.join(checkpoint_dir, \"ckpt\")\n",
    "checkpoint = tf.train.Checkpoint(optimizer=optimizer,\n",
    "                                 encoder=encoder,\n",
    "                                 decoder=decoder)"
   ]
  },
  {
   "cell_type": "code",
   "execution_count": 48,
   "metadata": {
    "id": "cD_-tP6q8CgW"
   },
   "outputs": [],
   "source": [
    "@tf.function\n",
    "def train_step_att(inp, targ, enc_hidden):\n",
    "    loss = 0\n",
    "\n",
    "    with tf.GradientTape() as tape:\n",
    "        #получаем выходы encoder\n",
    "        enc_output, enc_hidden = encoder(inp, enc_hidden)\n",
    "        #помещаем выходное скрытое состояние энкодера в скрытое состояние decoder\n",
    "        dec_hidden = enc_hidden\n",
    "        #формируем вход декодера:\n",
    "             # берем список длины батч из индексов тега \n",
    "             # приписываем списку размерность 1\n",
    "        dec_input = tf.expand_dims([targ_lang.word_index['<start>']] * BATCH_SIZE, 1)\n",
    "\n",
    "        #Teacher forcing - выводим target в качестве следующего входа\n",
    "        for t in range(1, targ.shape[1]):\n",
    "            #помещаем enc_output, dec_input, dec_hidden в decoder\n",
    "            predictions, dec_hidden, _ = decoder(dec_input, dec_hidden, enc_output)\n",
    "            # считаем функцию потерь \n",
    "            loss += loss_function(targ[:, t], predictions)\n",
    "            # используем teacher forcing (приписываем списку размерность 1)\n",
    "            dec_input = tf.expand_dims(targ[:, t], 1)\n",
    "\n",
    "    batch_loss = (loss / int(targ.shape[1]))\n",
    "    variables = encoder.trainable_variables + decoder.trainable_variables\n",
    "    #вычисляем градиенты loss по variables\n",
    "    gradients = tape.gradient(loss, variables)\n",
    "    #оптимизатор применяет подсчитанные градиенты\n",
    "    optimizer.apply_gradients(zip(gradients, variables))\n",
    "\n",
    "    return batch_loss"
   ]
  },
  {
   "cell_type": "code",
   "execution_count": 49,
   "metadata": {
    "colab": {
     "base_uri": "https://localhost:8080/"
    },
    "id": "WQVt4W658Ci9",
    "outputId": "082551b8-b783-4a0a-b59c-af54b7a5206a"
   },
   "outputs": [
    {
     "name": "stdout",
     "output_type": "stream",
     "text": [
      "Epoch 1 Batch 0 Loss 4.6395\n",
      "Epoch 1 Batch 100 Loss 1.7758\n",
      "Epoch 1 Batch 200 Loss 1.6511\n",
      "Epoch 1 Batch 300 Loss 1.5266\n",
      "Epoch 1 Batch 400 Loss 1.5112\n",
      "Epoch 1 Batch 500 Loss 1.2795\n",
      "Epoch 1 Batch 600 Loss 1.1856\n",
      "Epoch 1 Batch 700 Loss 1.2163\n",
      "Epoch 1 Batch 800 Loss 1.1189\n",
      "Epoch 1 Batch 900 Loss 1.0376\n",
      "Epoch 1 Batch 1000 Loss 1.0506\n",
      "Epoch 1 Batch 1100 Loss 0.9629\n",
      "Epoch 1 Batch 1200 Loss 1.0557\n",
      "Epoch 1 Loss 1.3537\n",
      "Time taken for 1 epoch 117.72102928161621 sec\n",
      "\n",
      "Epoch 2 Batch 0 Loss 1.0040\n",
      "Epoch 2 Batch 100 Loss 0.9353\n",
      "Epoch 2 Batch 200 Loss 0.8617\n",
      "Epoch 2 Batch 300 Loss 0.9310\n",
      "Epoch 2 Batch 400 Loss 0.7933\n",
      "Epoch 2 Batch 500 Loss 0.7913\n",
      "Epoch 2 Batch 600 Loss 0.6993\n",
      "Epoch 2 Batch 700 Loss 0.7582\n",
      "Epoch 2 Batch 800 Loss 0.7508\n",
      "Epoch 2 Batch 900 Loss 0.7522\n",
      "Epoch 2 Batch 1000 Loss 0.6263\n",
      "Epoch 2 Batch 1100 Loss 0.6401\n",
      "Epoch 2 Batch 1200 Loss 0.5975\n",
      "Epoch 2 Loss 0.7466\n",
      "Time taken for 1 epoch 104.39229106903076 sec\n",
      "\n",
      "Epoch 3 Batch 0 Loss 0.4231\n",
      "Epoch 3 Batch 100 Loss 0.4461\n",
      "Epoch 3 Batch 200 Loss 0.6082\n",
      "Epoch 3 Batch 300 Loss 0.4584\n",
      "Epoch 3 Batch 400 Loss 0.4226\n",
      "Epoch 3 Batch 500 Loss 0.4981\n",
      "Epoch 3 Batch 600 Loss 0.4351\n",
      "Epoch 3 Batch 700 Loss 0.3690\n",
      "Epoch 3 Batch 800 Loss 0.4515\n",
      "Epoch 3 Batch 900 Loss 0.4614\n",
      "Epoch 3 Batch 1000 Loss 0.3977\n",
      "Epoch 3 Batch 1100 Loss 0.4890\n",
      "Epoch 3 Batch 1200 Loss 0.3960\n",
      "Epoch 3 Loss 0.4334\n",
      "Time taken for 1 epoch 103.32185053825378 sec\n",
      "\n",
      "Epoch 4 Batch 0 Loss 0.2188\n",
      "Epoch 4 Batch 100 Loss 0.2299\n",
      "Epoch 4 Batch 200 Loss 0.2708\n",
      "Epoch 4 Batch 300 Loss 0.2378\n",
      "Epoch 4 Batch 400 Loss 0.2613\n",
      "Epoch 4 Batch 500 Loss 0.2273\n",
      "Epoch 4 Batch 600 Loss 0.2862\n",
      "Epoch 4 Batch 700 Loss 0.3046\n",
      "Epoch 4 Batch 800 Loss 0.3188\n",
      "Epoch 4 Batch 900 Loss 0.2322\n",
      "Epoch 4 Batch 1000 Loss 0.2497\n",
      "Epoch 4 Batch 1100 Loss 0.1925\n",
      "Epoch 4 Batch 1200 Loss 0.2855\n",
      "Epoch 4 Loss 0.2624\n",
      "Time taken for 1 epoch 104.31077075004578 sec\n",
      "\n",
      "Epoch 5 Batch 0 Loss 0.1653\n",
      "Epoch 5 Batch 100 Loss 0.1270\n",
      "Epoch 5 Batch 200 Loss 0.1682\n",
      "Epoch 5 Batch 300 Loss 0.1623\n",
      "Epoch 5 Batch 400 Loss 0.1253\n",
      "Epoch 5 Batch 500 Loss 0.1942\n",
      "Epoch 5 Batch 600 Loss 0.1603\n",
      "Epoch 5 Batch 700 Loss 0.2031\n",
      "Epoch 5 Batch 800 Loss 0.1812\n",
      "Epoch 5 Batch 900 Loss 0.1775\n",
      "Epoch 5 Batch 1000 Loss 0.1575\n",
      "Epoch 5 Batch 1100 Loss 0.1823\n",
      "Epoch 5 Batch 1200 Loss 0.1893\n",
      "Epoch 5 Loss 0.1736\n",
      "Time taken for 1 epoch 103.36385035514832 sec\n",
      "\n",
      "Epoch 6 Batch 0 Loss 0.1308\n",
      "Epoch 6 Batch 100 Loss 0.0985\n",
      "Epoch 6 Batch 200 Loss 0.1420\n",
      "Epoch 6 Batch 300 Loss 0.1318\n",
      "Epoch 6 Batch 400 Loss 0.1034\n",
      "Epoch 6 Batch 500 Loss 0.1266\n",
      "Epoch 6 Batch 600 Loss 0.1423\n",
      "Epoch 6 Batch 700 Loss 0.1338\n",
      "Epoch 6 Batch 800 Loss 0.0964\n",
      "Epoch 6 Batch 900 Loss 0.1282\n",
      "Epoch 6 Batch 1000 Loss 0.0969\n",
      "Epoch 6 Batch 1100 Loss 0.1540\n",
      "Epoch 6 Batch 1200 Loss 0.1199\n",
      "Epoch 6 Loss 0.1269\n",
      "Time taken for 1 epoch 104.34780502319336 sec\n",
      "\n",
      "Epoch 7 Batch 0 Loss 0.0865\n",
      "Epoch 7 Batch 100 Loss 0.0871\n",
      "Epoch 7 Batch 200 Loss 0.1066\n",
      "Epoch 7 Batch 300 Loss 0.0667\n",
      "Epoch 7 Batch 400 Loss 0.0979\n",
      "Epoch 7 Batch 500 Loss 0.1022\n",
      "Epoch 7 Batch 600 Loss 0.1078\n",
      "Epoch 7 Batch 700 Loss 0.1076\n",
      "Epoch 7 Batch 800 Loss 0.1071\n",
      "Epoch 7 Batch 900 Loss 0.1107\n",
      "Epoch 7 Batch 1000 Loss 0.1238\n",
      "Epoch 7 Batch 1100 Loss 0.1124\n",
      "Epoch 7 Batch 1200 Loss 0.1445\n",
      "Epoch 7 Loss 0.1016\n",
      "Time taken for 1 epoch 103.25003361701965 sec\n",
      "\n",
      "Epoch 8 Batch 0 Loss 0.0617\n",
      "Epoch 8 Batch 100 Loss 0.0609\n",
      "Epoch 8 Batch 200 Loss 0.0804\n",
      "Epoch 8 Batch 300 Loss 0.0985\n",
      "Epoch 8 Batch 400 Loss 0.0495\n",
      "Epoch 8 Batch 500 Loss 0.0722\n",
      "Epoch 8 Batch 600 Loss 0.0732\n",
      "Epoch 8 Batch 700 Loss 0.0939\n",
      "Epoch 8 Batch 800 Loss 0.1031\n",
      "Epoch 8 Batch 900 Loss 0.0723\n",
      "Epoch 8 Batch 1000 Loss 0.0852\n",
      "Epoch 8 Batch 1100 Loss 0.0800\n",
      "Epoch 8 Batch 1200 Loss 0.1480\n",
      "Epoch 8 Loss 0.0860\n",
      "Time taken for 1 epoch 104.02591490745544 sec\n",
      "\n",
      "Epoch 9 Batch 0 Loss 0.0574\n",
      "Epoch 9 Batch 100 Loss 0.0499\n",
      "Epoch 9 Batch 200 Loss 0.0562\n",
      "Epoch 9 Batch 300 Loss 0.0629\n",
      "Epoch 9 Batch 400 Loss 0.0536\n",
      "Epoch 9 Batch 500 Loss 0.1242\n",
      "Epoch 9 Batch 600 Loss 0.0855\n",
      "Epoch 9 Batch 700 Loss 0.0734\n",
      "Epoch 9 Batch 800 Loss 0.1162\n",
      "Epoch 9 Batch 900 Loss 0.0981\n",
      "Epoch 9 Batch 1000 Loss 0.0768\n",
      "Epoch 9 Batch 1100 Loss 0.0945\n",
      "Epoch 9 Batch 1200 Loss 0.0899\n",
      "Epoch 9 Loss 0.0763\n",
      "Time taken for 1 epoch 103.19991493225098 sec\n",
      "\n",
      "Epoch 10 Batch 0 Loss 0.0650\n",
      "Epoch 10 Batch 100 Loss 0.0910\n",
      "Epoch 10 Batch 200 Loss 0.0535\n",
      "Epoch 10 Batch 300 Loss 0.0738\n",
      "Epoch 10 Batch 400 Loss 0.0508\n",
      "Epoch 10 Batch 500 Loss 0.0793\n",
      "Epoch 10 Batch 600 Loss 0.0773\n",
      "Epoch 10 Batch 700 Loss 0.0762\n",
      "Epoch 10 Batch 800 Loss 0.0448\n",
      "Epoch 10 Batch 900 Loss 0.0779\n",
      "Epoch 10 Batch 1000 Loss 0.0669\n",
      "Epoch 10 Batch 1100 Loss 0.0964\n",
      "Epoch 10 Batch 1200 Loss 0.1091\n",
      "Epoch 10 Loss 0.0700\n",
      "Time taken for 1 epoch 104.161865234375 sec\n",
      "\n"
     ]
    }
   ],
   "source": [
    "EPOCHS = 10\n",
    "\n",
    "for epoch in range(EPOCHS):\n",
    "    start = time.time()\n",
    "\n",
    "    #инициализируем входное скрытое состояние (из нулей) размера (батч, кол-во рекуррентных ячеек)\n",
    "    enc_hidden = encoder.initialize_hidden_state()\n",
    "    total_loss = 0\n",
    "\n",
    "    for (batch, (inp, targ)) in enumerate(dataset.take(steps_per_epoch)):\n",
    "        #делаем шаг обучения и считаем ошибку\n",
    "        batch_loss = train_step_att(inp, targ, enc_hidden)\n",
    "        total_loss += batch_loss\n",
    "        if batch % 100 == 0:\n",
    "            print('Epoch {} Batch {} Loss {:.4f}'.format(epoch + 1,\n",
    "                                                       batch,\n",
    "                                                       batch_loss.numpy()))\n",
    "    #сохраняем checkpoint\n",
    "    if (epoch + 1) % 2 == 0:\n",
    "        checkpoint.save(file_prefix = checkpoint_prefix)\n",
    "\n",
    "    print('Epoch {} Loss {:.4f}'.format(epoch + 1,\n",
    "                                      total_loss / steps_per_epoch))\n",
    "    print('Time taken for 1 epoch {} sec\\n'.format(time.time() - start))"
   ]
  },
  {
   "cell_type": "code",
   "execution_count": 50,
   "metadata": {
    "id": "Rxwp9WS_8Cle"
   },
   "outputs": [],
   "source": [
    "def evaluate_attention(sentence):\n",
    " \n",
    "    attention_plot = np.zeros((max_length_targ, max_length_inp))\n",
    "\n",
    "    sentence = preprocess_sentence(sentence)\n",
    "\n",
    "    inputs = [inp_lang.word_index[i] for i in sentence.split(' ')]\n",
    "\n",
    "    inputs = tf.keras.preprocessing.sequence.pad_sequences([inputs],\n",
    "                                                         maxlen=max_length_inp,\n",
    "                                                         padding='post')\n",
    "\n",
    "    inputs = tf.convert_to_tensor(inputs)\n",
    "\n",
    "    result = ''\n",
    "\n",
    "    hidden = [tf.zeros((1, units))]\n",
    "\n",
    "    enc_out, enc_hidden = encoder(inputs, hidden)\n",
    "\n",
    "\n",
    "    dec_hidden = enc_hidden\n",
    "\n",
    "    dec_input = tf.expand_dims([targ_lang.word_index['<start>']], 0)\n",
    "\n",
    "    for t in range(max_length_targ):\n",
    "\n",
    "        predictions, dec_hidden, attention_weights = decoder(dec_input,\n",
    "                                                         dec_hidden,\n",
    "                                                         enc_out)\n",
    "\n",
    "        attention_weights = tf.reshape(attention_weights, (-1, ))\n",
    "        attention_plot[t] = attention_weights.numpy()\n",
    "\n",
    "        predicted_id = tf.argmax(predictions[0]).numpy()\n",
    "        result += targ_lang.index_word[predicted_id] + ' '\n",
    "\n",
    "\n",
    "        if targ_lang.index_word[predicted_id] == '<end>':\n",
    "            return result, sentence, attention_plot\n",
    "\n",
    "\n",
    "        dec_input = tf.expand_dims([predicted_id], 0)\n",
    "\n",
    "    return result, sentence, attention_plot"
   ]
  },
  {
   "cell_type": "code",
   "execution_count": 51,
   "metadata": {
    "id": "W2CEu4pt8Cn9"
   },
   "outputs": [],
   "source": [
    "def plot_attention(attention, sentence, predicted_sentence):\n",
    "    fig = plt.figure(figsize=(10,10))\n",
    "    ax = fig.add_subplot(1, 1, 1)\n",
    "    ax.matshow(attention, cmap='viridis')\n",
    "\n",
    "    fontdict = {'fontsize': 14}\n",
    "\n",
    "    ax.set_xticklabels([''] + sentence, fontdict=fontdict, rotation=90)\n",
    "    ax.set_yticklabels([''] + predicted_sentence, fontdict=fontdict)\n",
    "\n",
    "    ax.xaxis.set_major_locator(ticker.MultipleLocator(1))\n",
    "    ax.yaxis.set_major_locator(ticker.MultipleLocator(1))\n",
    "\n",
    "    plt.show()"
   ]
  },
  {
   "cell_type": "code",
   "execution_count": 52,
   "metadata": {
    "id": "R2YUO0fh8Cq1"
   },
   "outputs": [],
   "source": [
    "def translate_attention(sentence):\n",
    "    result, sentence, attention_plot = evaluate_attention(sentence)\n",
    "    print('Input: %s' % (sentence))\n",
    "    print('Predicted translation: {}'.format(result))\n",
    "\n",
    "    attention_plot = attention_plot[:len(result.split(' ')), :len(sentence.split(' '))]\n",
    "    plot_attention(attention_plot, sentence.split(' '), result.split(' '))"
   ]
  },
  {
   "cell_type": "code",
   "execution_count": 53,
   "metadata": {
    "colab": {
     "base_uri": "https://localhost:8080/"
    },
    "id": "oSWPamML8CtW",
    "outputId": "9d7819b3-0940-454b-ef68-2faba4b271c9"
   },
   "outputs": [
    {
     "data": {
      "text/plain": [
       "<tensorflow.python.training.tracking.util.CheckpointLoadStatus at 0x7f2d05916e10>"
      ]
     },
     "execution_count": 53,
     "metadata": {},
     "output_type": "execute_result"
    }
   ],
   "source": [
    "checkpoint.restore(tf.train.latest_checkpoint(checkpoint_dir))"
   ]
  },
  {
   "cell_type": "code",
   "execution_count": 54,
   "metadata": {
    "colab": {
     "base_uri": "https://localhost:8080/",
     "height": 680
    },
    "id": "ctNtx-Oq8CwG",
    "outputId": "e4216412-6c48-41c6-b6b6-624515aa1f24"
   },
   "outputs": [
    {
     "name": "stdout",
     "output_type": "stream",
     "text": [
      "Input: <start> сегодня идет дождь . <end>\n",
      "Predicted translation: it's raining today . <end> \n"
     ]
    },
    {
     "data": {
      "image/png": "[encoded data removed]",
      "text/plain": [
       "<Figure size 720x720 with 1 Axes>"
      ]
     },
     "metadata": {
      "needs_background": "light"
     },
     "output_type": "display_data"
    }
   ],
   "source": [
    "translate_attention('Сегодня идет дождь.')"
   ]
  },
  {
   "cell_type": "code",
   "execution_count": 55,
   "metadata": {
    "colab": {
     "base_uri": "https://localhost:8080/",
     "height": 462
    },
    "id": "f0_jSZOR8Cy2",
    "outputId": "1c40f7b3-6e5d-46f4-df0f-75783241aae4"
   },
   "outputs": [
    {
     "name": "stdout",
     "output_type": "stream",
     "text": [
      "Input: <start> завтра мы поедем на пляж и будем там плавать . <end>\n",
      "Predicted translation: we'll go home now . <end> \n"
     ]
    },
    {
     "data": {
      "image/png": "[encoded data removed]",
      "text/plain": [
       "<Figure size 720x720 with 1 Axes>"
      ]
     },
     "metadata": {
      "needs_background": "light"
     },
     "output_type": "display_data"
    }
   ],
   "source": [
    "translate_attention('Завтра мы поедем на пляж и будем там плавать.')"
   ]
  },
  {
   "cell_type": "code",
   "execution_count": 56,
   "metadata": {
    "colab": {
     "base_uri": "https://localhost:8080/",
     "height": 697
    },
    "id": "XL1GChRO8C1l",
    "outputId": "6c1c77c1-c99d-43bc-d008-98abb457d260"
   },
   "outputs": [
    {
     "name": "stdout",
     "output_type": "stream",
     "text": [
      "Input: <start> мы смотрим телевизор . <end>\n",
      "Predicted translation: we are watching tv . <end> \n"
     ]
    },
    {
     "data": {
      "image/png": "[encoded data removed]",
      "text/plain": [
       "<Figure size 720x720 with 1 Axes>"
      ]
     },
     "metadata": {
      "needs_background": "light"
     },
     "output_type": "display_data"
    }
   ],
   "source": [
    "translate_attention('Мы смотрим телевизор.')"
   ]
  },
  {
   "cell_type": "code",
   "execution_count": 57,
   "metadata": {
    "colab": {
     "base_uri": "https://localhost:8080/",
     "height": 683
    },
    "id": "PSElXEld9Xni",
    "outputId": "831d9068-b221-40d3-f626-b42b0a1841ef"
   },
   "outputs": [
    {
     "name": "stdout",
     "output_type": "stream",
     "text": [
      "Input: <start> я сейчас работаю . <end>\n",
      "Predicted translation: i work now . <end> \n"
     ]
    },
    {
     "data": {
      "image/png": "[encoded data removed]",
      "text/plain": [
       "<Figure size 720x720 with 1 Axes>"
      ]
     },
     "metadata": {
      "needs_background": "light"
     },
     "output_type": "display_data"
    }
   ],
   "source": [
    "translate_attention('Я сейчас работаю.')"
   ]
  },
  {
   "cell_type": "code",
   "execution_count": 58,
   "metadata": {
    "colab": {
     "base_uri": "https://localhost:8080/",
     "height": 441
    },
    "id": "wFMTyIdU8C4G",
    "outputId": "e6fbab9e-b6fa-4bc9-88a7-1e5bffcfbf83"
   },
   "outputs": [
    {
     "name": "stdout",
     "output_type": "stream",
     "text": [
      "Input: <start> мы любим ходить гулять , если на улице хорошая погода . <end>\n",
      "Predicted translation: we love asian ok . <end> \n"
     ]
    },
    {
     "data": {
      "image/png": "[encoded data removed]",
      "text/plain": [
       "<Figure size 720x720 with 1 Axes>"
      ]
     },
     "metadata": {
      "needs_background": "light"
     },
     "output_type": "display_data"
    }
   ],
   "source": [
    "translate_attention('Мы любим ходить гулять, если на улице хорошая погода.')"
   ]
  },
  {
   "cell_type": "markdown",
   "metadata": {},
   "source": [
    "Модель оказалась среднего качества. улучшение есть, но минимальное, может быть из-за уменьшения количества эпох , так как мой компьютер грузил бы 50 эпох длительный промежуток времени"
   ]
  }
 ],
 "metadata": {
  "accelerator": "GPU",
  "colab": {
   "collapsed_sections": [],
   "provenance": []
  },
  "gpuClass": "standard",
  "kernelspec": {
   "display_name": "Python 3 (ipykernel)",
   "language": "python",
   "name": "python3"
  },
  "language_info": {
   "codemirror_mode": {
    "name": "ipython",
    "version": 3
   },
   "file_extension": ".py",
   "mimetype": "text/x-python",
   "name": "python",
   "nbconvert_exporter": "python",
   "pygments_lexer": "ipython3",
   "version": "3.9.12"
  }
 },
 "nbformat": 4,
 "nbformat_minor": 1
}
